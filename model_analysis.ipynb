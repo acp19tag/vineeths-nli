{
 "cells": [
  {
   "cell_type": "code",
   "execution_count": 1,
   "metadata": {},
   "outputs": [],
   "source": [
    "import os\n",
    "import pathlib\n",
    "import pickle"
   ]
  },
  {
   "cell_type": "code",
   "execution_count": 11,
   "metadata": {},
   "outputs": [],
   "source": [
    "data_dir = \"input/data_pickles/\"\n",
    "glove_dict_dir = 'input/embeddings/glove_dict.pickle'"
   ]
  },
  {
   "cell_type": "code",
   "execution_count": 7,
   "metadata": {},
   "outputs": [],
   "source": [
    "with open(glove_dict_dir, 'rb') as file:\n",
    "    glove_dict = pickle.load(file)"
   ]
  },
  {
   "cell_type": "code",
   "execution_count": 10,
   "metadata": {},
   "outputs": [
    {
     "data": {
      "text/plain": [
       "400000"
      ]
     },
     "execution_count": 10,
     "metadata": {},
     "output_type": "execute_result"
    }
   ],
   "source": [
    "len(glove_dict)"
   ]
  },
  {
   "cell_type": "code",
   "execution_count": 13,
   "metadata": {},
   "outputs": [],
   "source": [
    "data_dict = {}\n",
    "for filename in os.listdir(data_dir):\n",
    "    if 'sentence' in filename:\n",
    "        with open(data_dir + filename, \"rb\") as f:\n",
    "            data_dict[filename] = pickle.load(f)"
   ]
  },
  {
   "attachments": {},
   "cell_type": "markdown",
   "metadata": {},
   "source": [
    "Investigate OOV Proportion"
   ]
  },
  {
   "cell_type": "code",
   "execution_count": 14,
   "metadata": {},
   "outputs": [
    {
     "data": {
      "text/plain": [
       "dict_keys(['test_list_sentence1.txt', 'test_list_sentence2.txt', 'train_list_sentence1.txt', 'dev_list_sentence2.txt', 'dev_list_sentence1.txt', 'train_list_sentence2.txt'])"
      ]
     },
     "execution_count": 14,
     "metadata": {},
     "output_type": "execute_result"
    }
   ],
   "source": [
    "data_dict.keys()"
   ]
  },
  {
   "cell_type": "code",
   "execution_count": 17,
   "metadata": {},
   "outputs": [],
   "source": [
    "def investigate_oov(data_file, glove_vocab):\n",
    "    \n",
    "    word_counter = 0\n",
    "    oov_counter = 0\n",
    "    oov_set = set()\n",
    "    \n",
    "    for sentence in data_file:\n",
    "        for word in sentence:\n",
    "            word_counter += 1\n",
    "            if word.lower() not in glove_vocab:\n",
    "                oov_counter += 1\n",
    "                oov_set.add(word.lower())\n",
    "                \n",
    "    return word_counter, oov_counter, oov_set"
   ]
  },
  {
   "cell_type": "code",
   "execution_count": 19,
   "metadata": {},
   "outputs": [],
   "source": [
    "def calculate_oov_prop(data_file, glove_vocab):\n",
    "    \n",
    "    word_counter, oov_counter, _ = investigate_oov(data_file, glove_vocab)\n",
    "    \n",
    "    return oov_counter / word_counter"
   ]
  },
  {
   "cell_type": "code",
   "execution_count": 20,
   "metadata": {},
   "outputs": [
    {
     "data": {
      "text/plain": [
       "0.008657278714271261"
      ]
     },
     "execution_count": 20,
     "metadata": {},
     "output_type": "execute_result"
    }
   ],
   "source": [
    "calculate_oov_prop(\n",
    "    data_dict['test_list_sentence1.txt'],\n",
    "    glove_dict.keys()\n",
    ")"
   ]
  },
  {
   "cell_type": "code",
   "execution_count": 21,
   "metadata": {},
   "outputs": [
    {
     "data": {
      "text/plain": [
       "[23, 23, 24, 22, 22, 24]"
      ]
     },
     "execution_count": 21,
     "metadata": {},
     "output_type": "execute_result"
    }
   ],
   "source": [
    "[len(key) for key in data_dict.keys()]"
   ]
  },
  {
   "cell_type": "code",
   "execution_count": 22,
   "metadata": {},
   "outputs": [
    {
     "name": "stdout",
     "output_type": "stream",
     "text": [
      "test_list_sentence1.txt   : 0.9%\n",
      "test_list_sentence2.txt   : 3.1%\n",
      "train_list_sentence1.txt  : 0.8%\n",
      "dev_list_sentence2.txt    : 3.1%\n",
      "dev_list_sentence1.txt    : 0.8%\n",
      "train_list_sentence2.txt  : 3.1%\n"
     ]
    }
   ],
   "source": [
    "for filename in data_dict:\n",
    "    \n",
    "    oov_prop = calculate_oov_prop(\n",
    "        data_dict[filename],\n",
    "        glove_dict.keys()\n",
    "    )\n",
    "    \n",
    "    print(f'{filename:<26}: {oov_prop:.1%}')"
   ]
  },
  {
   "cell_type": "code",
   "execution_count": null,
   "metadata": {},
   "outputs": [],
   "source": []
  }
 ],
 "metadata": {
  "kernelspec": {
   "display_name": "base",
   "language": "python",
   "name": "python3"
  },
  "language_info": {
   "codemirror_mode": {
    "name": "ipython",
    "version": 3
   },
   "file_extension": ".py",
   "mimetype": "text/x-python",
   "name": "python",
   "nbconvert_exporter": "python",
   "pygments_lexer": "ipython3",
   "version": "3.10.9"
  },
  "orig_nbformat": 4,
  "vscode": {
   "interpreter": {
    "hash": "dbf3d00156ef863cc0d2ce5b90061ac495d8c309acf7c0a8351801afbe0f7234"
   }
  }
 },
 "nbformat": 4,
 "nbformat_minor": 2
}
