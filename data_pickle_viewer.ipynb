{
 "cells": [
  {
   "cell_type": "code",
   "execution_count": 1,
   "metadata": {},
   "outputs": [],
   "source": [
    "import os\n",
    "import pickle"
   ]
  },
  {
   "cell_type": "code",
   "execution_count": 2,
   "metadata": {},
   "outputs": [],
   "source": [
    "data_dir = \"input/data_pickles/\""
   ]
  },
  {
   "cell_type": "code",
   "execution_count": 3,
   "metadata": {},
   "outputs": [
    {
     "data": {
      "text/plain": [
       "['dev_list_gold_label.txt',\n",
       " 'test_list_sentence1.txt',\n",
       " 'test_list_sentence2.txt',\n",
       " 'train_list_sentence1.txt',\n",
       " 'test_list_gold_label.txt',\n",
       " 'train_list_gold_label.txt',\n",
       " 'dev_list_sentence2.txt',\n",
       " 'dev_list_sentence1.txt',\n",
       " 'train_list_sentence2.txt']"
      ]
     },
     "execution_count": 3,
     "metadata": {},
     "output_type": "execute_result"
    }
   ],
   "source": [
    "os.listdir(data_dir)"
   ]
  },
  {
   "cell_type": "code",
   "execution_count": 4,
   "metadata": {},
   "outputs": [],
   "source": [
    "data_dict = {}\n",
    "for filename in os.listdir(data_dir):\n",
    "    if 'test' in filename:\n",
    "        with open(data_dir + filename, \"rb\") as f:\n",
    "            data_dict[filename] = pickle.load(f)"
   ]
  },
  {
   "cell_type": "code",
   "execution_count": 5,
   "metadata": {},
   "outputs": [
    {
     "data": {
      "text/plain": [
       "dict_keys(['test_list_sentence1.txt', 'test_list_sentence2.txt', 'test_list_gold_label.txt'])"
      ]
     },
     "execution_count": 5,
     "metadata": {},
     "output_type": "execute_result"
    }
   ],
   "source": [
    "data_dict.keys()"
   ]
  },
  {
   "cell_type": "code",
   "execution_count": 6,
   "metadata": {},
   "outputs": [
    {
     "name": "stdout",
     "output_type": "stream",
     "text": [
      "test_list_sentence1.txt: ['0', 'rugby']\n",
      "\n",
      "test_list_sentence2.txt: ['Strong', 'understanding', 'and', 'experience', 'in', 'Government', 'Affairs', 'in', 'the', 'UK', 'EU', 'ideally', 'with', 'some', 'experience', 'in', 'the', 'area', 'of', 'retail', 'product', 'or', 'consumer', 'facing', 'businessExcellent', 'executional', 'skills', 'with', 'a', 'proven', 'track', 'record', 'in', 'demonstrating', 'sound', 'political', 'judgementExcellent', 'written', 'and', 'oral', 'communications', 'skills', 'with', 'the', 'ability', 'to', 'make', 'the', 'complex', 'simpleHigh', 'integrity', 'demonstrating', 'trust', 'openness', 'and', 'a', 'determination', 'to', 'succeedProven', 'experience', 'in', 'managing', 'people', 'and', 'leading', 'teamsAn', 'ability', 'to', 'juggle', 'many', 'and', 'often', 'competing', 'demands', 'recognising', 'and', 'prioritising', 'what', 'matters', 'to', 'the', 'businessCustomer', 'empathy', 'and', 'strong', 'emotional', 'intelligenceAn', 'ability', 'to', 'operate', 'at', 'a', 'senior', 'working', 'in', 'partnership', 'and', 'gaining', 'trust', 'Head', 'of', 'Government', 'Relations', 'Acting', 'as', 'joint', 'day', 'to', 'day', 'lead', 'for', 'the', 'Group', 'Government', 'Affairs', 'team', 'both', 'inside', 'the', 'business', 'and', 'with', 'external', 'stakeholdersSupporting', 'the', 'Director', 'of', 'Government', 'Relations', 'to', 'develop', 'Tesco', 's', 'public', 'policy', 'strategy', 'in', 'the', 'UK', 'and', 'EUDelivering', 'our', 'engagement', 'and', 'influencing', 'strategy', 'on', 'key', 'public', 'policy', 'issues', 'that', 'best', 'protect', 'and', 'promote', 'the', 'businessManaging', 'a', 'small', 'team', 'of', 'Government', 'Relations', 'Managers', 'Executives', 'to', 'deliver', 'the', 'pre', 'agreed', 'programme', 'of', 'workAligning', 'with', 'the', 'International', 'Government', 'Relations', 'Managers', 'and', 'Group', 'Communications', 'team', 'to', 'ensure', 'coordinated', 'policy', 'positionsInfluencing', 'the', 'business', 'to', 'adopt', 'public', 'policy', 'positions', 'that', 'will', 'give', 'brand', 'competitive', 'advantageRepresenting', 'Tesco', 'externally', 'both', 'as', 'a', 'proactive', 'brand', 'Ambassador', 'and', 'robust', 'reactive', 'defenderManaging', 'Tesco', 's', 'relationship', 'with', 'key', 'trade', 'bodies', 'to', 'influence', 'their', 'policy', 'positions', 'and', 'engagement', 'strategiesLeading', 'on', 'crisis', 'management', 'as', 'it', 'relates', 'to', 'public', 'policyIn', 'partnership', 'with', 'the', 'Government', 'Relations', 'Director', 'ensuring', 'the', 'team', 'spend', 'aligns', 'with', 'the', 'budget', 'and', 'offers', 'great', 'value', 'for', 'money', 'for', 'the', 'business', 'This', 'is', 'a', 'high', 'profile', 'position', 'requiring', 'both', 'the', 'ability', 'to', 'provide', 'strategic', 'vision', 'and', 'direction', 'as', 'well', 'as', 'team', 'management', 'and', 'hands', 'on', 'support', 'As', 'a', 'business', 'with', 'millions', 'of', 'customers', 'thousands', 'of', 'stores', 'and', '320', '000', 'UK', 'Colleagues', 'our', 'reach', 'relevance', 'and', 'impact', 'is', 'significant', 'right', 'across', 'the', 'UK', 'The', 'role', 'sits', 'within', 'Tesco', 's', 'Group', 'Legal', 'team', 'and', 'reports', 'into', 'our', 'new', 'Government', 'Relations', 'Director', 'During', 'a', 'time', 'of', 'heightened', 'political', 'challenges', 'the', 'opportunity', 'is', 'exciting', 'and', 'hugely', 'challenging', 'providing', 'the', 'chance', 'to', 'operate', 'at', 'the', 'heart', 'of', 'the', 'organisation', 'You', 'will', 'influence', 'policy', 'in', 'areas', 'crucial', 'to', 'our', 'business', 'recognising', 'our', 'significance', 'both', 'in', 'the', 'UK', 'and', 'globally', 'in', 'agriculture', 'and', 'food', 'manufacturing', 'sectors', 'You', 'would', 'also', 'be', 'responsible', 'for', 'leading', 'our', 'Group', 'approach', 'to', 'Brexit', 'identifying', 'emerging', 'risk', 'and', 'making', 'our', 'voice', 'heard', 'on', 'those', 'policy', 'issues', 'critical', 'to', 'our', 'business', 'Understanding', 'the', 'core', 'of', 'Tesco', 's', 'brand', 'and', 'strategy', 'and', 'translating', 'it', 'into', 'a', 'political', 'one', 'will', 'be', 'central', 'to', 'the', 'role', 'This', 'will', 'help', 'to', 'development', 'a', 'proactive', 'strategic', 'agenda', 'which', 'will', 'be', 'anchored', 'around', '4', 'pillars', '1', 'Licence', 'to', 'Operate', 'political', 'risks', 'and', 'opportunities', 'that', 'affect', 'our', 'ability', 'and', 'cost', 'to', 'trade2', 'Supply', 'Chain3', 'Health4', 'BrexitClick', 'the', 'link', 'below', 'to', 'hear', 'directly', 'from', 'the', 'Group', 'Legal', 'team', 'on', 'their', 'experiences', 'at', 'Tesco', 'https', 'www', 'youtube', 'com', 'watch', 'v', 'D2hD64QaJJk', 'United', 'Kingdom', 'Welwyn', 'Garden', 'City', 'Hertfordshire']\n",
      "\n",
      "test_list_gold_label.txt: 1\n",
      "\n",
      "********************\n",
      "\n",
      "test_list_sentence1.txt: ['0', 'Till', 'Trained', 'Manual', 'Handling', 'ECDL', 'Certificate', 'First', 'Aid', 'Certified']\n",
      "\n",
      "test_list_sentence2.txt: ['Able', 'to', 'give', 'great', 'natural', 'customer', 'service', 'by', 'proactively', 'smiling', 'greeting', 'acknowledging', 'and', 'helping', 'customers', 'Works', 'hard', 'for', 'customers', 'your', 'team', 'and', 'your', 'department', 'You', 'are', 'able', 'to', 'prioritise', 'to', 'ensure', 'anything', 'you', 'do', 'is', 'right', 'for', 'our', 'customers', 'Adaptable', 'and', 'resilient', 'to', 'meet', 'the', 'ever', 'changing', 'demands', 'of', 'our', 'business', 'You', 'must', 'be', 'able', 'to', 'follow', 'instructions', 'either', 'verbal', 'or', 'written', 'You', 'are', 'reliable', 'and', 'a', 'good', 'timekeeper', 'You', 'must', 'be', 'smart', 'and', 'tidy', 'at', 'all', 'times', 'Customer', 'Assistant', 'Part', 'Time', 'Wilton', 'Square', 'Always', 'put', 'the', 'customer', 'first', 'and', 'consider', 'them', 'in', 'everything', 'you', 'do', 'Get', 'to', 'know', 'your', 'customers', 'and', 'serve', 'them', 'with', 'pride', 'Help', 'to', 'ensure', 'products', 'and', 'services', 'are', 'available', 'for', 'customers', 'at', 'all', 'times', 'Handle', 'all', 'products', 'with', 'care', 'to', 'maintain', 'quality', 'and', 'ensure', 'they', 'reach', 'the', 'customer', 'in', 'the', 'best', 'condition', 'Keep', 'the', 'shop', 'floor', 'and', 'back', 'areas', 'clean', 'and', 'tidy', 'at', 'all', 'times', 'Using', 'the', 'training', 'you', 'receive', 'follow', 'department', 'routines', 'and', 'processes', 'Follow', 'all', 'company', 'policies', 'and', 'adhere', 'to', 'Health', 'and', 'Safety', 'routines', 'Whilst', 'you', 'will', 'have', 'a', 'core', 'role', 'you', 'may', 'be', 'asked', 'to', 'support', 'your', 'colleagues', 'by', 'helping', 'in', 'other', 'departments', 'Tesco', 'Wilton', 'Square', 'Contract', 'Part', 'Time', 'TemporaryShift', 'Pattern', 'FlexibleWe', 'pride', 'ourselves', 'on', 'offering', 'customers', 'the', 'biggest', 'range', 'of', 'products', 'around', 'And', 'that', 's', 'not', 'just', 'food', 'but', 'everything', 'from', 'clothes', 'and', 'kettles', 'to', 'financial', 'services', 'But', 'did', 'you', 'know', 'we', 'offer', 'the', 'biggest', 'job', 'opportunities', 'too', 'With', 'stores', 'across', 'the', 'UK', 'and', 'Ireland', 'and', 'a', 'variety', 'of', 'roles', 'we', 'are', 'always', 'looking', 'for', 'people', 'who', 'are', 'as', 'passionate', 'about', 'helping', 'customers', 'as', 'we', 'are', 'Our', 'Every', 'Little', 'Helps', 'approach', 'doesn', 't', 'just', 'apply', 'to', 'our', 'customers', 'It', 's', 'at', 'the', 'very', 'heart', 'of', 'everything', 'we', 'do', 'at', 'work', 'and', 'it', 's', 'what', 'makes', 'us', 'different', 'We', 'believe', 'in', 'treating', 'each', 'other', 'with', 'respect', 'and', 'everyone', 'having', 'the', 'opportunity', 'to', 'get', 'on', 'That', 's', 'what', 'makes', 'Tesco', 'such', 'a', 'great', 'place', 'to', 'workShould', 'you', 'be', 'successful', 'in', 'your', 'application', 'your', 'offer', 'will', 'be', 'subject', 'to', 'and', 'conditional', 'upon', 'you', 'providing', 'your', 'bank', 'account', 'details', 'before', 'your', 'agreed', 'start', 'date', 'Ireland', 'Wilton', 'Square', 'Wilton', 'Shopping', 'Centre', 'Wilton', 'Cork']\n",
      "\n",
      "test_list_gold_label.txt: 1\n",
      "\n",
      "********************\n",
      "\n",
      "test_list_sentence1.txt: ['London', '0', 'United', 'Kingdom', 'My', 'responsibilites', 'are', 'to', 'make', 'sure', 'the', 'stores', 'recieve', 'all', 'the', 'stock', 'they', 'have', 'ordered', 'when', 'i', 'am', 'on', 'assembly', 'or', 'flt', 'operating', 'in', 'a', 'time', 'managed', 'and', 'safe', 'way', 'My', 'responsibilites', 'were', 'to', 'make', 'sure', 'the', 'stores', 'recieved', 'all', 'stock', 'they', 'had', 'ordered', 'wether', 'i', 'was', 'on', 'assembly', 'flt', 'operator', 'or', 'goods', 'out', 'loading', 'in', 'a', 'time', 'managed', 'and', 'safe', 'way', 'Flt', 'Operator', 'Goods', 'Out', 'Loader']\n",
      "\n",
      "test_list_sentence2.txt: ['You', 'll', 'need', 'to', 'ensure', 'you', 'meet', 'the', 'following', 'criteria', 'You', 'work', 'for', 'Tesco', 'in', 'one', 'of', 'the', 'following', 'Distribution', 'Centres', 'Hinckley', 'Lichfield', 'Peterborough', 'Southampton', 'Avonmouth', 'Didcot', 'Reading', 'Thurrock', 'Dagenham', 'Daventry', 'Frozen', 'Stores', 'Bristol', 'Brislington', 'Bradley', 'Stoke', 'Yate', 'Bristol', 'Eastville', 'Customer', 'Fulfilment', 'Centres', 'Enfield', 'Aylesford', 'Croydon', 'Crawley', 'GreenfordYou', 'are', 'contracted', 'to', 'work', '30', 'hours', 'or', 'more', 'a', 'weekYou', 'hold', 'a', 'full', 'car', 'driving', 'licence', 'Category', 'B', 'entitlement', 'with', 'no', 'endorsementsYou', 'are', 'aged', 'over', '18', 'yearsYou', 'are', 'not', 'in', 'full', 'time', 'education', 'or', 'planning', 'to', 'return', 'within', 'the', 'next', '16', 'monthsYou', 'have', 'not', 'previously', 'started', 'or', 'completed', 'a', 'Level', '2', 'LGV', 'ApprenticeshipYou', 'must', 'have', 'the', 'right', 'to', 'work', 'in', 'the', 'UKYou', 'll', 'need', 'a', 'passion', 'for', 'learningYou', 'll', 'need', 'a', 'strong', 'interest', 'in', 'Distribution', 'and', 'the', 'role', 'of', 'a', 'driverYou', 'll', 'need', 'to', 'be', 'hands', 'on', 'and', 'willing', 'to', 'learn', 'at', 'every', 'opportunity', 'LGV', 'Apprenticeship', '2019', 'Our', 'apprenticeship', 'is', 'a', 'broad', 'programme', 'covering', 'a', 'wide', 'range', 'of', 'content', 'focused', 'on', 'giving', 'you', 'the', 'knowledge', 'skills', 'and', 'behaviours', 'required', 'to', 'develop', 'an', 'in', 'depth', 'understanding', 'of', 'LGV', 'driving', 'You', 'll', 'obtain', 'a', 'BTEC', 'in', 'the', 'Principles', 'for', 'Carrying', 'and', 'Delivering', 'Goods', 'by', 'Road', 'On', 'completion', 'of', 'the', 'apprenticeship', 'programme', 'you', 'll', 'have', 'obtained', 'your', 'Class', '1', 'Category', 'C', 'E', 'driving', 'licence', 'If', 'you', 'need', 'to', 'you', 'll', 'have', 'an', 'opportunity', 'to', 'develop', 'your', 'maths', 'and', 'English', 'skills', 'Our', 'apprenticeship', 'programme', 'is', 'aimed', 'at', 'colleagues', 'who', 'have', 'a', 'passion', 'for', 'learning', 'who', 'are', 'ambitious', 'and', 'determined', 'Join', 'the', 'apprenticeship', 'programme', 'and', 'you', 'll', 'learn', 'from', 'the', 'best', 'You', 'll', 'experience', 'different', 'areas', 'of', 'our', 'Distribution', 'operations', 'and', 'have', 'opportunities', 'to', 'work', 'in', 'areas', 'of', 'the', 'Distribution', 'Centre', 'you', 've', 'never', 'worked', 'in', 'before', 'In', 'collaboration', 'with', 'our', 'training', 'provider', 'South', 'Essex', 'College', 'we', 've', 'built', 'a', 'Level', '2', 'LGV', 'Apprenticeship', 'that', 'provides', 'the', 'foundation', 'knowledge', 'skills', 'and', 'experience', 'for', 'the', 'role', 'of', 'a', 'LGV', 'Driver', 'Driving', 'in', 'a', 'safe', 'and', 'fuel', 'efficient', 'manner', 'Apprenticeship', 'Standard', 'drivers', 'ensure', 'that', 'the', 'right', 'products', 'are', 'delivered', 'at', 'the', 'right', 'time', 'location', 'and', 'temperature', 'The', 'apprenticeship', 'takes', 'a', 'minimum', 'of', 'one', 'year', 'to', 'complete', 'and', 'you', 'll', 'be', 'guided', 'and', 'supported', 'by', 'a', 'South', 'Essex', 'College', 'apprenticeship', 'coach', 'as', 'well', 'as', 'your', 'manager', 'and', 'Distribution', 'team', 'If', 'you', 'd', 'like', 'a', 'change', 'in', 'career', 'path', 'this', 'is', 'a', 'great', 'place', 'to', 'start', 'As', 'part', 'of', 'the', 'selection', 'process', 'successful', 'candidates', 'will', 'be', 'invited', 'to', 'attend', 'an', 'assessment', 'centre', 'Stage', 'one', 'of', 'the', 'assessment', 'centre', 'will', 'be', 'a', 'function', 'skills', 'assessment', 'maths', 'and', 'English', 'and', 'a', 'vehicle', 'licence', 'and', 'qualification', 'check', 'Stage', 'two', 'will', 'involve', 'a', '40', 'minute', 'driving', 'assessment', 'with', 'a', 'Tesco', 'driver', 'trainerSuccessful', 'candidates', 'will', 'be', 'invited', 'to', 'the', 'final', 'stage', 'of', 'the', 'assessment', 'centre', 'this', 'will', 'involve', 'an', 'interview', 'with', 'a', 'delivery', 'service', 'manager', 'from', 'your', 'distribution', 'centre', 'United', 'Kingdom', 'United', 'Kingdom']\n",
      "\n",
      "test_list_gold_label.txt: 1\n",
      "\n",
      "********************\n",
      "\n"
     ]
    }
   ],
   "source": [
    "for i in range(3):\n",
    "    for filename in data_dict:\n",
    "        print(f\"{filename}: {data_dict[filename][i]}\")\n",
    "        print()\n",
    "    print('*'*20)\n",
    "    print()"
   ]
  },
  {
   "cell_type": "code",
   "execution_count": 7,
   "metadata": {},
   "outputs": [
    {
     "name": "stdout",
     "output_type": "stream",
     "text": [
      "test_list_sentence1.txt: 49367\n",
      "\n",
      "test_list_sentence2.txt: 49367\n",
      "\n",
      "test_list_gold_label.txt: 49367\n",
      "\n"
     ]
    }
   ],
   "source": [
    "for filename in data_dict:\n",
    "    print(f\"{filename}: {len(data_dict[filename])}\")\n",
    "    print()\n"
   ]
  },
  {
   "cell_type": "code",
   "execution_count": null,
   "metadata": {},
   "outputs": [],
   "source": []
  }
 ],
 "metadata": {
  "kernelspec": {
   "display_name": "cudatest",
   "language": "python",
   "name": "python3"
  },
  "language_info": {
   "codemirror_mode": {
    "name": "ipython",
    "version": 3
   },
   "file_extension": ".py",
   "mimetype": "text/x-python",
   "name": "python",
   "nbconvert_exporter": "python",
   "pygments_lexer": "ipython3",
   "version": "3.10.9"
  },
  "orig_nbformat": 4,
  "vscode": {
   "interpreter": {
    "hash": "a0bf9e2828031bae1743a76e7b72d4bbdb5feb109e2957116e5777ed2d99d615"
   }
  }
 },
 "nbformat": 4,
 "nbformat_minor": 2
}
