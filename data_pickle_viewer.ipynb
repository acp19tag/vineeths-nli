{
 "cells": [
  {
   "cell_type": "code",
   "execution_count": 1,
   "metadata": {},
   "outputs": [],
   "source": [
    "import os\n",
    "import pickle"
   ]
  },
  {
   "cell_type": "code",
   "execution_count": 2,
   "metadata": {},
   "outputs": [],
   "source": [
    "data_dir = \"../data/matched/reformatted/hired/\""
   ]
  },
  {
   "cell_type": "code",
   "execution_count": 3,
   "metadata": {},
   "outputs": [
    {
     "data": {
      "text/plain": [
       "['dev_list_gold_label.txt',\n",
       " 'test_list_sentence1.txt',\n",
       " 'train.txt',\n",
       " 'dev.txt',\n",
       " 'test_list_sentence2.txt',\n",
       " 'train_list_sentence1.txt',\n",
       " 'test_list_gold_label.txt',\n",
       " 'train_list_gold_label.txt',\n",
       " 'dev_list_sentence2.txt',\n",
       " 'test.txt',\n",
       " 'dev_list_sentence1.txt',\n",
       " 'train_list_sentence2.txt']"
      ]
     },
     "execution_count": 3,
     "metadata": {},
     "output_type": "execute_result"
    }
   ],
   "source": [
    "os.listdir(data_dir)"
   ]
  },
  {
   "cell_type": "code",
   "execution_count": 4,
   "metadata": {},
   "outputs": [],
   "source": [
    "data_dict = {}\n",
    "for filename in os.listdir(data_dir):\n",
    "    if 'list' in filename:\n",
    "        with open(data_dir + filename, \"rb\") as f:\n",
    "            data_dict[filename] = pickle.load(f)"
   ]
  },
  {
   "cell_type": "code",
   "execution_count": 5,
   "metadata": {},
   "outputs": [
    {
     "data": {
      "text/plain": [
       "dict_keys(['dev_list_gold_label.txt', 'test_list_sentence1.txt', 'test_list_sentence2.txt', 'train_list_sentence1.txt', 'test_list_gold_label.txt', 'train_list_gold_label.txt', 'dev_list_sentence2.txt', 'dev_list_sentence1.txt', 'train_list_sentence2.txt'])"
      ]
     },
     "execution_count": 5,
     "metadata": {},
     "output_type": "execute_result"
    }
   ],
   "source": [
    "data_dict.keys()"
   ]
  },
  {
   "cell_type": "code",
   "execution_count": 6,
   "metadata": {},
   "outputs": [
    {
     "name": "stdout",
     "output_type": "stream",
     "text": [
      "dev_list_gold_label.txt: 0\n",
      "\n",
      "test_list_sentence1.txt: ['Dublin', '0', 'Ireland', 'Rialto', 'Dublin', 'Care', 'of', 'one', 'baby', 'children', 'of', '10', 'month', 'One', 'complete', 'care', 'of', 'his', 'needs', 'change', 'nappies', 'give', 'his', 'breakfast', 'lunch', 'and', 'dinner', 'play', 'with', 'games', 'that', 'stimulate', 'his', 'growth', 'Castleknock', 'Dublin', 'Care', 'of', 'two', 'children', 'a', 'girl', 'of', '2', 'years', 'and', 'a', 'child', 'of', '7', 'years', 'Leave', 'and', 'pick', 'up', 'at', 'school', 'preschool', 'activities', 'with', 'the', 'girl', 'give', 'the', 'lunch', 'Public', 'attention', 'Organize', 'and', 'clean', 'the', 'counter', 'Extra', 'curricular', 'activities', 'with', 'children', 'from', '3', 'to', '13', 'years', 'Check', 'in', 'check', 'out', 'Customer', 'service', 'Formalization', 'of', 'booking', 'documentation', 'Customer', 'service', 'Managing', 'appointments', 'for', 'patients', 'Claims', 'managements', 'on', 'behalf', 'of', 'individuals', 'and', 'insurance', 'companies', 'Continuous', 'updating', 'of', 'the', 'database', 'using', 'Navision', 'software', 'Conducting', 'surveys', 'to', 'verify', 'customer', 's', 'satisfaction', 'for', 'supermarkets', 'Customer', 'service', 'Answering', 'calls', 'for', 'the', 'sales', 'department', 'Care', 'of', '2', 'childrens', 'girls', 'a', 'girl', 'of', '1', 'and', 'half', 'years', 'and', 'a', 'girl', 'of', '5', 'years', 'One', 'complete', 'care', 'of', 'his', 'needs', 'change', 'nappies', 'girl', 'baby', 'give', 'her', 'lunch', 'play', 'with', 'games', 'that', 'stimulate', 'his', 'growth', 'pick', 'up', 'at', 'creche', 'to', 'the', 'old', 'girl', 'DIMPLES', 'Cr', 'che', 'Montessori', 'After', 'School', 'Care', 'Sandyford', 'Dublin', 'Music', 'time', 'dancing', 'Arts', 'Crafts', 'Free', 'Time', 'I', 'take', 'care', '3', 'girls', 'during', 'School', 'Year', 'Pick', 'up', 'Lunch', 'time', 'and', 'homework', 'time', 'Septembre', 'Childminder', 'Clondarf', 'Dublin', 'Care', 'of', '3', 'children', 'a', 'girl', 'of', '8', 'years', 'and', 'twins', 'girls', 'of', '10', 'years', 'Croke', 'Park', 'Dublin', 'Frontline', 'North', 'Star', 'Hotel', 'The', 'Address', 'Housekeeping', 'Dublin', 'Cleaning', 'bedrooms', 'of', 'a', 'hotel', 'using', 'cleaning', 'materials', 'Provide', 'linens', 'blankets', 'towels', 'and', 'pillows', 'by', 'guests', 'Replenish', 'stock', 'of', 'items', 'in', 'hotel', 'rooms', 'Vacuuming', 'and', 'Mopping', 'DIMPLES', 'Cr', 'che', 'Montessori', 'After', 'School', 'Care', 'Sandyford', 'Dublin', 'Music', 'time', 'dancing', 'Arts', 'Crafts', 'Free', 'Time', 'Childminder', 'Cabra', 'Dublin', 'Care', 'of', '2', 'children', 'a', 'girl', 'of', '1', 'and', 'half', 'years', 'and', 'a', 'girl', 'of', '5', 'years', 'One', 'complete', 'care', 'of', 'his', 'needs', 'change', 'nappies', 'give', 'her', 'lunch', 'play', 'with', 'games', 'that', 'stimulate', 'his', 'growth', 'pick', 'up', 'of', 'school', 'to', 'the', 'old', 'girl', 'Childminder', 'Rialto', 'Dublin', 'Care', 'of', 'one', 'baby', 'child', 'of', '10', 'month', 'One', 'complete', 'care', 'of', 'his', 'needs', 'change', 'nappies', 'give', 'his', 'breakfast', 'lunch', 'and', 'dinner', 'play', 'with', 'games', 'that', 'stimulate', 'his', 'growth', 'Public', 'attention', 'Organize', 'and', 'clean', 'the', 'counter', 'Extra', 'curricular', 'activities', 'with', 'children', 'from', '3', 'to', '13', 'years', 'Hotel', 'receptionist', 'Check', 'Hotel', 'receptionist', 'Check', 'in', 'check', 'out', 'Customer', 'service', 'Formalization', 'of', 'booking', 'documentation', 'ATENTO', 'TELESERVICIOS', 'ESPA', 'A', 'S', 'A', 'Sanitat', 'Respon', 'Barcelona', 'Operator', 'Call', 'Center', 'Operator', 'Customer', 'service', 'Managing', 'appointments', 'for', 'patients', 'Continuous', 'updating', 'of', 'the', 'database', 'using', 'Navision', 'software', 'Formative', 'Cycle', 'of', 'Average', 'Grade', 'of', 'Artefinal', 'of', 'Graphic', 'Design', 'Leisure', 'instructor', 'Course', 'Certificate', 'English', 'Pre', 'intermediate', 'English', 'Customer', 'Service', 'Comutierized', 'Accounting', 'Receptionist', 'Operator', 'Website', 'Design', 'Ciclo', 'Formativo', 'de', 'Grado', 'Medio', 'de', 'Artfinal', 'de', 'Disseny', 'Gr', 'fic', 'Escola', 'd', 'Art', 'i', 'Disseny', 'de', 'Sant', 'Cugat', '2000', '2002', 'OTHERS', 'COURSES', 'Leisure', 'instructor', 'Fundacion', 'Pere', 'Tarres', 'Barcelona', '2016', 'Course', 'Certificate', 'English', 'Pre', 'intermediate', 'Chapterhouse', 'Dublin', '2015', 'English', 'Customer', 'Service', 'T', 'del', 'Formaci', 'Barcelona', '2014', 'Comutierized', 'Accounting', 'Promoci', 'Econ', 'mica', 'Sant', 'Joan', 'Despi', '2009', 'Receptionist', 'Operator', 'Promoci', 'Econ', 'mica', 'Sant', 'Joan', 'Despi', '2005', '2006', 'Website', 'Design', 'CIFO', 'L', 'Hospitalet', 'de', 'Llobregat', '2003', 'COMPETENCES', 'Responsible', 'person', 'and', 'creative', 'Ability', 'to', 'work', 'on', 'own', 'initiative', 'Team', 'player', 'OTHERS', 'COURSES', 'Course', 'Certificate', 'English', 'Pre', 'intermediate', 'Chapterhouse', 'Dublin', '2015', 'COMPETENCES', 'Microsoft', 'Office', 'Photoshop', 'Internet', 'Dreamweaver', 'Microsoft', 'Navision', 'Contaplus', '2009']\n",
      "\n",
      "test_list_sentence2.txt: ['Able', 'to', 'give', 'great', 'natural', 'customer', 'service', 'by', 'proactively', 'smiling', 'greeting', 'acknowledging', 'and', 'helping', 'customers', 'Works', 'hard', 'for', 'customers', 'your', 'team', 'and', 'your', 'department', 'You', 'are', 'able', 'to', 'prioritise', 'to', 'ensure', 'anything', 'you', 'do', 'is', 'right', 'for', 'our', 'customers', 'Adaptable', 'and', 'resilient', 'to', 'meet', 'the', 'ever', 'changing', 'demands', 'of', 'our', 'business', 'You', 'must', 'be', 'able', 'to', 'follow', 'instructions', 'either', 'verbal', 'or', 'written', 'You', 'are', 'reliable', 'and', 'a', 'good', 'timekeeper', 'You', 'must', 'be', 'smart', 'and', 'tidy', 'at', 'all', 'times', 'Upper', 'Rathmines', 'Road', 'Rathmines', 'Dublin', 'Tesco', 'RathminesContract', 'Part', 'Time', 'TemporaryShift', 'Pattern', 'FlexibleWe', 'pride', 'ourselves', 'on', 'offering', 'customers', 'the', 'biggest', 'range', 'of', 'products', 'around', 'And', 'that', 's', 'not', 'just', 'food', 'but', 'everything', 'from', 'clothes', 'and', 'kettles', 'to', 'financial', 'services', 'But', 'did', 'you', 'know', 'we', 'offer', 'the', 'biggest', 'job', 'opportunities', 'too', 'With', 'stores', 'across', 'the', 'UK', 'and', 'Ireland', 'and', 'a', 'variety', 'of', 'roles', 'we', 'are', 'always', 'looking', 'for', 'people', 'who', 'are', 'as', 'passionate', 'about', 'helping', 'customers', 'as', 'we', 'are', 'Our', 'Every', 'Little', 'Helps', 'approach', 'doesn', 't', 'just', 'apply', 'to', 'our', 'customers', 'It', 's', 'at', 'the', 'very', 'heart', 'of', 'everything', 'we', 'do', 'at', 'work', 'and', 'it', 's', 'what', 'makes', 'us', 'different', 'We', 'believe', 'in', 'treating', 'each', 'other', 'with', 'respect', 'and', 'everyone', 'having', 'the', 'opportunity', 'to', 'get', 'on', 'That', 's', 'what', 'makes', 'Tesco', 'such', 'a', 'great', 'place', 'to', 'work', 'Always', 'put', 'the', 'customer', 'first', 'and', 'consider', 'them', 'in', 'everything', 'you', 'do', 'Get', 'to', 'know', 'your', 'customers', 'and', 'serve', 'them', 'with', 'pride', 'Help', 'to', 'ensure', 'products', 'and', 'services', 'are', 'available', 'for', 'customers', 'at', 'all', 'times', 'Handle', 'all', 'products', 'with', 'care', 'to', 'maintain', 'quality', 'and', 'ensure', 'they', 'reach', 'the', 'customer', 'in', 'the', 'best', 'condition', 'Keep', 'the', 'shop', 'floor', 'and', 'back', 'areas', 'clean', 'and', 'tidy', 'at', 'all', 'times', 'Using', 'the', 'training', 'you', 'receive', 'follow', 'department', 'routines', 'and', 'processes', 'Follow', 'all', 'company', 'policies', 'and', 'adhere', 'to', 'Health', 'and', 'Safety', 'routines', 'Whilst', 'you', 'will', 'have', 'a', 'core', 'role', 'you', 'may', 'be', 'asked', 'to', 'support', 'your', 'colleagues', 'by', 'helping', 'in', 'other', 'departments', 'Customer', 'Assistant', 'Part', 'Time', 'Rathmines', 'Ireland']\n",
      "\n",
      "train_list_sentence1.txt: ['0', 'Excellent', 'Computer', 'Skills', 'Friendly', 'and', 'approachable', 'manner', 'Flexible', 'hard', 'working', 'and', 'with', 'attention', 'to', 'detail', 'Works', 'well', 'with', 'team', 'oriented', 'tasks', 'Works', 'well', 'with', 'team', 'oriented', 'tasks', 'as', 'well', 'as', 'independent', 'duties', 'Flexible', 'hard', 'working', 'strong', 'attention', 'to', 'detail']\n",
      "\n",
      "test_list_gold_label.txt: 0\n",
      "\n",
      "train_list_gold_label.txt: 0\n",
      "\n",
      "dev_list_sentence2.txt: ['Able', 'to', 'give', 'great', 'natural', 'customer', 'service', 'by', 'proactively', 'smiling', 'greeting', 'acknowledging', 'and', 'helping', 'customers', 'Works', 'hard', 'for', 'customers', 'your', 'team', 'and', 'your', 'department', 'You', 'are', 'able', 'to', 'prioritise', 'to', 'ensure', 'anything', 'you', 'do', 'is', 'right', 'for', 'our', 'customers', 'Adaptable', 'and', 'resilient', 'to', 'meet', 'the', 'ever', 'changing', 'demands', 'of', 'our', 'business', 'You', 'must', 'be', 'able', 'to', 'follow', 'instructions', 'either', 'verbal', 'or', 'written', 'You', 'are', 'reliable', 'and', 'a', 'good', 'timekeeper', 'You', 'must', 'be', 'smart', 'and', 'tidy', 'at', 'all', 'times', 'Bath', 'Street', 'Poleberry', 'Waterford', 'Tesco', 'PoleberryContract', 'Part', 'Time', 'TemporaryShift', 'Pattern', 'FlexibleWe', 'pride', 'ourselves', 'on', 'offering', 'customers', 'the', 'biggest', 'range', 'of', 'products', 'around', 'And', 'that', 's', 'not', 'just', 'food', 'but', 'everything', 'from', 'clothes', 'and', 'kettles', 'to', 'financial', 'services', 'But', 'did', 'you', 'know', 'we', 'offer', 'the', 'biggest', 'job', 'opportunities', 'too', 'With', 'stores', 'across', 'the', 'UK', 'and', 'Ireland', 'and', 'a', 'variety', 'of', 'roles', 'we', 'are', 'always', 'looking', 'for', 'people', 'who', 'are', 'as', 'passionate', 'about', 'helping', 'customers', 'as', 'we', 'are', 'Our', 'Every', 'Little', 'Helps', 'approach', 'doesn', 't', 'just', 'apply', 'to', 'our', 'customers', 'It', 's', 'at', 'the', 'very', 'heart', 'of', 'everything', 'we', 'do', 'at', 'work', 'and', 'it', 's', 'what', 'makes', 'us', 'different', 'We', 'believe', 'in', 'treating', 'each', 'other', 'with', 'respect', 'and', 'everyone', 'having', 'the', 'opportunity', 'to', 'get', 'on', 'That', 's', 'what', 'makes', 'Tesco', 'such', 'a', 'great', 'place', 'to', 'work', 'Always', 'put', 'the', 'customer', 'first', 'and', 'consider', 'them', 'in', 'everything', 'you', 'do', 'Get', 'to', 'know', 'your', 'customers', 'and', 'serve', 'them', 'with', 'pride', 'Help', 'to', 'ensure', 'products', 'and', 'services', 'are', 'available', 'for', 'customers', 'at', 'all', 'times', 'Handle', 'all', 'products', 'with', 'care', 'to', 'maintain', 'quality', 'and', 'ensure', 'they', 'reach', 'the', 'customer', 'in', 'the', 'best', 'condition', 'Keep', 'the', 'shop', 'floor', 'and', 'back', 'areas', 'clean', 'and', 'tidy', 'at', 'all', 'times', 'Using', 'the', 'training', 'you', 'receive', 'follow', 'department', 'routines', 'and', 'processes', 'Follow', 'all', 'company', 'policies', 'and', 'adhere', 'to', 'Health', 'and', 'Safety', 'routines', 'Whilst', 'you', 'will', 'have', 'a', 'core', 'role', 'you', 'may', 'be', 'asked', 'to', 'support', 'your', 'colleagues', 'by', 'helping', 'in', 'other', 'departments', 'Customer', 'Assistant', 'Part', 'Time', 'Poleberry', 'Ireland']\n",
      "\n",
      "dev_list_sentence1.txt: ['Waterford', 'City', '0', 'Ireland', 'I', 'was', 'responsible', 'for', 'planning', 'the', 'Managing', 'Director', 's', 'travel', 'itinerary', 'plans', 'his', 'meetings', 'type', 'up', 'the', 'Director', 's', 'speech', 'and', 'take', 'minutes', 'of', 'of', 'each', 'meetings', 'held', 'I', 'was', 'responsible', 'for', 'receiving', 'clients', 'to', 'the', 'office', 'and', 'directing', 'them', 'to', 'the', 'appropriate', 'personnel', 'I', 'was', 'also', 'in', 'charge', 'of', 'promoting', 'the', 'company', 's', 'image', 'Computer', 'Appreciation', 'Excellent', 'mathematical', 'knowledge']\n",
      "\n",
      "train_list_sentence2.txt: ['Able', 'to', 'give', 'great', 'natural', 'customer', 'service', 'by', 'proactively', 'smiling', 'greeting', 'acknowledging', 'and', 'helping', 'customers', 'Works', 'hard', 'for', 'customers', 'your', 'team', 'and', 'your', 'department', 'You', 'are', 'able', 'to', 'prioritise', 'to', 'ensure', 'anything', 'you', 'do', 'is', 'right', 'for', 'our', 'customers', 'Adaptable', 'and', 'resilient', 'to', 'meet', 'the', 'ever', 'changing', 'demands', 'of', 'our', 'business', 'You', 'must', 'be', 'able', 'to', 'follow', 'instructions', 'either', 'verbal', 'or', 'written', 'You', 'are', 'reliable', 'and', 'a', 'good', 'timekeeper', 'You', 'must', 'be', 'smart', 'and', 'tidy', 'at', 'all', 'times', 'Ormond', 'Street', 'Nenagh', 'Tipperary', 'Tesco', 'Nenagh', 'Contract', 'Part', 'Time', 'TemporaryShift', 'Pattern', 'FlexibleWe', 'pride', 'ourselves', 'on', 'offering', 'customers', 'the', 'biggest', 'range', 'of', 'products', 'around', 'And', 'that', 's', 'not', 'just', 'food', 'but', 'everything', 'from', 'clothes', 'and', 'kettles', 'to', 'financial', 'services', 'But', 'did', 'you', 'know', 'we', 'offer', 'the', 'biggest', 'job', 'opportunities', 'too', 'With', 'stores', 'across', 'the', 'UK', 'and', 'Ireland', 'and', 'a', 'variety', 'of', 'roles', 'we', 'are', 'always', 'looking', 'for', 'people', 'who', 'are', 'as', 'passionate', 'about', 'helping', 'customers', 'as', 'we', 'are', 'Our', 'Every', 'Little', 'Helps', 'approach', 'doesn', 't', 'just', 'apply', 'to', 'our', 'customers', 'It', 's', 'at', 'the', 'very', 'heart', 'of', 'everything', 'we', 'do', 'at', 'work', 'and', 'it', 's', 'what', 'makes', 'us', 'different', 'We', 'believe', 'in', 'treating', 'each', 'other', 'with', 'respect', 'and', 'everyone', 'having', 'the', 'opportunity', 'to', 'get', 'on', 'That', 's', 'what', 'makes', 'Tesco', 'such', 'a', 'great', 'place', 'to', 'work', 'Always', 'put', 'the', 'customer', 'first', 'and', 'consider', 'them', 'in', 'everything', 'you', 'do', 'Get', 'to', 'know', 'your', 'customers', 'and', 'serve', 'them', 'with', 'pride', 'Help', 'to', 'ensure', 'products', 'and', 'services', 'are', 'available', 'for', 'customers', 'at', 'all', 'times', 'Handle', 'all', 'products', 'with', 'care', 'to', 'maintain', 'quality', 'and', 'ensure', 'they', 'reach', 'the', 'customer', 'in', 'the', 'best', 'condition', 'Keep', 'the', 'shop', 'floor', 'and', 'back', 'areas', 'clean', 'and', 'tidy', 'at', 'all', 'times', 'Using', 'the', 'training', 'you', 'receive', 'follow', 'department', 'routines', 'and', 'processes', 'Follow', 'all', 'company', 'policies', 'and', 'adhere', 'to', 'Health', 'and', 'Safety', 'routines', 'Whilst', 'you', 'will', 'have', 'a', 'core', 'role', 'you', 'may', 'be', 'asked', 'to', 'support', 'your', 'colleagues', 'by', 'helping', 'in', 'other', 'departments', 'Customer', 'Assistant', 'Part', 'Time', 'Nenagh', 'Ireland']\n",
      "\n",
      "********************\n",
      "\n",
      "dev_list_gold_label.txt: 1\n",
      "\n",
      "test_list_sentence1.txt: ['Galway', '0', 'Ireland', 'I', 'handled', 'incoming', 'calls', 'for', 'Sales', 'responded', 'to', 'inquiries', 'and', 'resolving', 'problems', 'Meeting', 'agreed', 'deadlines', 'within', 'a', 'short', 'time', 'frame', 'while', 'trying', 'to', 'maintain', 'a', 'quick', 'pace', 'in', 'a', 'challenging', 'work', 'environment', 'I', 'worked', 'as', 'a', 'general', 'operative', 'with', 'Boston', 'Scientific', 'My', 'responsibilities', 'included', 'assembling', 'products', 'in', 'a', 'clean', 'room', 'environment', 'on', 'a', 'contract', 'basis', 'Responsible', 'for', 'ensuring', 'that', 'local', 'residents', 'and', 'tourists', 'receive', 'service', 'in', 'a', 'courteous', 'efficient', 'and', 'polite', 'manner', 'while', 'keeping', 'a', 'professional', 'attitude', 'Keeping', 'the', 'serving', 'areas', 'clean', 'and', 'sanitary', 'according', 'to', 'company', 'policies', 'and', 'procedures', 'HACCP', 'training', 'Certificate', 'of', 'online', 'training', 'in', 'Level', '1', 'Food', 'Safety', 'Retail', 'I', 'handled', 'incoming', 'calls', 'for', 'Sales', 'responded', 'to', 'inquiries', 'and', 'resolving', 'problems', 'Meeting', 'agreed', 'deadlines', 'within', 'a', 'short', 'time', 'frame', 'while', 'trying', 'to', 'maintain', 'a', 'quick', 'pace', 'in', 'a', 'challenging', 'work', 'environment', 'I', 'Handled', 'high', 'volumes', 'of', 'calls', 'for', 'sales', 'Managing', 'and', 'maintaining', 'up', 'to', 'date', 'records', 'and', 'reports', 'Completed', 'customer', 'service', 'training', 'to', 'learn', 'ways', 'to', 'enhance', 'customer', 'satisfaction', 'I', 'worked', 'as', 'a', 'general', 'operative', 'with', 'Boston', 'Scientific', 'My', 'responsibilities', 'included', 'assembling', 'products', 'in', 'a', 'clean', 'room', 'environment', 'on', 'a', 'contract', 'basis', 'Responsible', 'for', 'the', 'daily', 'set', 'up', 'of', 'the', 'restaurant', 'Accountable', 'for', 'cash', 'handling', 'procedures', 'Keeping', 'the', 'serving', 'areas', 'clean', 'and', 'sanitary', 'according', 'to', 'company', 'policies', 'and', 'procedures', 'Manual', 'handling', 'Certificate', 'of', 'Manual', 'handling', 'training', 'I', 'worked', 'on', 'production', 'lines', 'assembling', 'in', 'a', 'factory', 'environment', 'Maintaining', 'the', 'work', 'areas', 'to', 'strictest', 'health', 'and', 'safety', 'standards', 'Packaging', 'and', 'store', 'facilities', 'to', 'ensure', 'an', 'excellent', 'customer', 'service', 'Assisting', 'customers', 'in', 'a', 'friendly', 'and', 'polite', 'manner', 'on', 'their', 'purchases', 'Maintained', 'clean', 'tidy', 'and', 'organized', 'checkout', 'areas', 'Responsible', 'for', 'Till', 'Operation', 'I', 'worked', 'for', 'Ferrero', 'on', 'a', 'production', 'line', 'I', 'worked', 'to', 'meet', 'targets', 'in', 'a', 'factory', 'environment', 'Working', 'within', 'a', 'team', 'on', 'various', 'shifts', 'Duties', 'include', 'attending', 'to', 'all', 'of', 'the', 'needs', 'of', 'the', 'children', 'and', 'light', 'housework', 'duties', 'as', 'requested', 'Picking', 'the', 'children', 'up', 'from', 'school', 'and', 'nursery', 'respectively', 'including', 'arranging', 'play', 'dates', 'Teaching', 'arts', 'and', 'crafts', 'and', 'helping', 'with', 'homework', 'Responsible', 'for', 'keeping', 'the', 'shop', 'clean', 'and', 'tidy', 'at', 'all', 'times', 'Managing', 'the', 'till', 'and', 'maintained', 'smart', 'tidy', 'appearance', 'representing', 'the', 'store', 'in', 'a', 'professional', 'manner', 'I', 'worked', 'for', 'Ferrero', 'on', 'a', 'production', 'line', 'Packaging', 'and', 'store', 'facilities', 'to', 'ensure', 'an', 'excellent', 'customer', 'service', 'Working', 'within', 'a', 'team', 'on', 'various', 'shifts', 'Responsible', 'for', 'building', 'medical', 'devices', 'Kept', 'work', 'areas', 'clear', 'and', 'tidy', 'Strong', 'analytical', 'and', 'organizational', 'skills', 'Capable', 'of', 'working', 'under', 'pressure', 'and', 'meet', 'deadlines', 'as', 'scheduled', 'with', 'quality', 'in', 'work', 'Strong', 'analytical', 'and', 'organizational', 'skills', 'Excellent', 'interpersonal', 'skills', 'Capable', 'of', 'working', 'under', 'pressure', 'and', 'meet', 'deadlines', 'as', 'scheduled', 'with', 'quality', 'in', 'work', 'Capable', 'of', 'working', 'under', 'pressure', 'and', 'meet', 'deadlines', 'as', 'scheduled', 'with', 'quality', 'in', 'work', 'Resilient', 'Determined', 'and', 'Ambitious', 'Cash', 'Handling', 'Team', 'player', 'Customer', 'Service', 'Excellent', 'Interpersonal', 'skills', 'Team', 'Player']\n",
      "\n",
      "test_list_sentence2.txt: ['Able', 'to', 'give', 'great', 'natural', 'customer', 'service', 'by', 'proactively', 'smiling', 'greeting', 'acknowledging', 'and', 'helping', 'customers', 'Works', 'hard', 'for', 'customers', 'your', 'team', 'and', 'your', 'department', 'You', 'are', 'able', 'to', 'prioritise', 'to', 'ensure', 'anything', 'you', 'do', 'is', 'right', 'for', 'our', 'customers', 'Adaptable', 'and', 'resilient', 'to', 'meet', 'the', 'ever', 'changing', 'demands', 'of', 'our', 'business', 'You', 'must', 'be', 'able', 'to', 'follow', 'instructions', 'either', 'verbal', 'or', 'written', 'You', 'are', 'reliable', 'and', 'a', 'good', 'timekeeper', 'You', 'must', 'be', 'smart', 'and', 'tidy', 'at', 'all', 'times', 'Ballincollig', 'Shopping', 'Ballincollig', 'Cork', 'Tesco', 'BallincolligContract', 'Part', 'Time', 'TemporaryShift', 'Pattern', 'FlexibleWe', 'pride', 'ourselves', 'on', 'offering', 'customers', 'the', 'biggest', 'range', 'of', 'products', 'around', 'And', 'that', 's', 'not', 'just', 'food', 'but', 'everything', 'from', 'clothes', 'and', 'kettles', 'to', 'financial', 'services', 'But', 'did', 'you', 'know', 'we', 'offer', 'the', 'biggest', 'job', 'opportunities', 'too', 'With', 'stores', 'across', 'the', 'UK', 'and', 'Ireland', 'and', 'a', 'variety', 'of', 'roles', 'we', 'are', 'always', 'looking', 'for', 'people', 'who', 'are', 'as', 'passionate', 'about', 'helping', 'customers', 'as', 'we', 'are', 'Our', 'Every', 'Little', 'Helps', 'approach', 'doesn', 't', 'just', 'apply', 'to', 'our', 'customers', 'It', 's', 'at', 'the', 'very', 'heart', 'of', 'everything', 'we', 'do', 'at', 'work', 'and', 'it', 's', 'what', 'makes', 'us', 'different', 'We', 'believe', 'in', 'treating', 'each', 'other', 'with', 'respect', 'and', 'everyone', 'having', 'the', 'opportunity', 'to', 'get', 'on', 'That', 's', 'what', 'makes', 'Tesco', 'such', 'a', 'great', 'place', 'to', 'work', 'Always', 'put', 'the', 'customer', 'first', 'and', 'consider', 'them', 'in', 'everything', 'you', 'do', 'Get', 'to', 'know', 'your', 'customers', 'and', 'serve', 'them', 'with', 'pride', 'Help', 'to', 'ensure', 'products', 'and', 'services', 'are', 'available', 'for', 'customers', 'at', 'all', 'times', 'Handle', 'all', 'products', 'with', 'care', 'to', 'maintain', 'quality', 'and', 'ensure', 'they', 'reach', 'the', 'customer', 'in', 'the', 'best', 'condition', 'Keep', 'the', 'shop', 'floor', 'and', 'back', 'areas', 'clean', 'and', 'tidy', 'at', 'all', 'times', 'Using', 'the', 'training', 'you', 'receive', 'follow', 'department', 'routines', 'and', 'processes', 'Follow', 'all', 'company', 'policies', 'and', 'adhere', 'to', 'Health', 'and', 'Safety', 'routines', 'Whilst', 'you', 'will', 'have', 'a', 'core', 'role', 'you', 'may', 'be', 'asked', 'to', 'support', 'your', 'colleagues', 'by', 'helping', 'in', 'other', 'departments', 'Customer', 'Assistant', 'Part', 'Time', 'Ballincollig', 'Ireland']\n",
      "\n",
      "train_list_sentence1.txt: ['Tramore', 'Co', 'Waterford', '0', 'Ireland', 'Assisted', 'the', 'other', 'members', 'in', 'staff', 'in', 'cleaning', 'up', 'around', 'the', 'Library', 'and', 'stacking', 'the', 'books', 'into', 'the', 'proper', 'order', 'and', 'also', 'working', 'at', 'the', 'desk', 'signing', 'books', 'in', 'and', 'out', 'Worked', 'as', 'part', 'of', 'a', 'Customer', 'Service', 'team', 'manning', 'the', 'front', 'of', 'house', 'desk', 'Contacting', 'customers', 'for', 'overdue', 'books', 'Recommendations', 'to', 'customers', 'on', 'what', 'books', 'to', 'read', 'Worked', 'as', 'part', 'of', 'a', 'team', 'to', 'provide', 'a', 'warm', 'welcoming', 'service', 'to', 'all', 'customers', 'Worked', 'flexible', 'shifts', 'in', 'order', 'to', 'accommodate', 'peak', 'trading', 'hours', 'Merchandising', 'Pricing', 'Stock', 'taking', 'and', 'stock', 'checking', 'Answering', 'customer', 'queries', 'and', 'sign', 'posting', 'customers', 'to', 'relevant', 'products', 'in', 'store', 'Assisted', 'the', 'other', 'members', 'of', 'the', 'team', 'around', 'the', 'shop', 'in', 'things', 'such', 'as', 'cleaning', 'stacking', 'shelves', 'customer', 'Service', 'taking', 'orders', 'and', 'deliveries', 'My', 'role', 'also', 'involved', 'helping', 'out', 'with', 'in', 'store', 'promotions', 'on', 'certain', 'products', 'and', 'creating', 'and', 'handing', 'out', 'leaflets', 'for', 'the', 'promotions', 'to', 'drive', 'sale', 'Assisted', 'members', 'of', 'staff', 'with', 'pricing', 'each', 'product', 'around', 'the', 'store', 'Working', 'in', 'the', 'store', 'room', 'checking', 'in', 'deliveries', 'Up', 'selling', 'and', 'link', 'selling', 'IT', 'skills', 'Microsoft', 'Word', 'Excel', 'Outlook', 'Powerpoint']\n",
      "\n",
      "test_list_gold_label.txt: 0\n",
      "\n",
      "train_list_gold_label.txt: 0\n",
      "\n",
      "dev_list_sentence2.txt: ['You', 'll', 'need', 'to', 'ensure', 'you', 'meet', 'the', 'following', 'criteria', 'You', 'work', 'for', 'Tesco', 'in', 'one', 'of', 'the', 'following', 'Distribution', 'Centres', 'Hinckley', 'Lichfield', 'Peterborough', 'Southampton', 'Avonmouth', 'Didcot', 'Reading', 'Thurrock', 'Dagenham', 'Daventry', 'Frozen', 'Stores', 'Bristol', 'Brislington', 'Bradley', 'Stoke', 'Yate', 'Bristol', 'Eastville', 'Customer', 'Fulfilment', 'Centres', 'Enfield', 'Aylesford', 'Croydon', 'Crawley', 'GreenfordYou', 'are', 'contracted', 'to', 'work', '30', 'hours', 'or', 'more', 'a', 'weekYou', 'hold', 'a', 'full', 'car', 'driving', 'licence', 'Category', 'B', 'entitlement', 'with', 'no', 'endorsementsYou', 'are', 'aged', 'over', '18', 'yearsYou', 'are', 'not', 'in', 'full', 'time', 'education', 'or', 'planning', 'to', 'return', 'within', 'the', 'next', '16', 'monthsYou', 'have', 'not', 'previously', 'started', 'or', 'completed', 'a', 'Level', '2', 'LGV', 'ApprenticeshipYou', 'must', 'have', 'the', 'right', 'to', 'work', 'in', 'the', 'UKYou', 'll', 'need', 'a', 'passion', 'for', 'learningYou', 'll', 'need', 'a', 'strong', 'interest', 'in', 'Distribution', 'and', 'the', 'role', 'of', 'a', 'driverYou', 'll', 'need', 'to', 'be', 'hands', 'on', 'and', 'willing', 'to', 'learn', 'at', 'every', 'opportunity', 'United', 'Kingdom', 'Our', 'apprenticeship', 'programme', 'is', 'aimed', 'at', 'colleagues', 'who', 'have', 'a', 'passion', 'for', 'learning', 'who', 'are', 'ambitious', 'and', 'determined', 'Join', 'the', 'apprenticeship', 'programme', 'and', 'you', 'll', 'learn', 'from', 'the', 'best', 'You', 'll', 'experience', 'different', 'areas', 'of', 'our', 'Distribution', 'operations', 'and', 'have', 'opportunities', 'to', 'work', 'in', 'areas', 'of', 'the', 'Distribution', 'Centre', 'you', 've', 'never', 'worked', 'in', 'before', 'In', 'collaboration', 'with', 'our', 'training', 'provider', 'South', 'Essex', 'College', 'we', 've', 'built', 'a', 'Level', '2', 'LGV', 'Apprenticeship', 'that', 'provides', 'the', 'foundation', 'knowledge', 'skills', 'and', 'experience', 'for', 'the', 'role', 'of', 'a', 'LGV', 'Driver', 'Driving', 'in', 'a', 'safe', 'and', 'fuel', 'efficient', 'manner', 'Apprenticeship', 'Standard', 'drivers', 'ensure', 'that', 'the', 'right', 'products', 'are', 'delivered', 'at', 'the', 'right', 'time', 'location', 'and', 'temperature', 'The', 'apprenticeship', 'takes', 'a', 'minimum', 'of', 'one', 'year', 'to', 'complete', 'and', 'you', 'll', 'be', 'guided', 'and', 'supported', 'by', 'a', 'South', 'Essex', 'College', 'apprenticeship', 'coach', 'as', 'well', 'as', 'your', 'manager', 'and', 'Distribution', 'team', 'If', 'you', 'd', 'like', 'a', 'change', 'in', 'career', 'path', 'this', 'is', 'a', 'great', 'place', 'to', 'start', 'As', 'part', 'of', 'the', 'selection', 'process', 'successful', 'candidates', 'will', 'be', 'invited', 'to', 'attend', 'an', 'assessment', 'centre', 'Stage', 'one', 'of', 'the', 'assessment', 'centre', 'will', 'be', 'a', 'function', 'skills', 'assessment', 'maths', 'and', 'English', 'and', 'a', 'vehicle', 'licence', 'and', 'qualification', 'check', 'Stage', 'two', 'will', 'involve', 'a', '40', 'minute', 'driving', 'assessment', 'with', 'a', 'Tesco', 'driver', 'trainerSuccessful', 'candidates', 'will', 'be', 'invited', 'to', 'the', 'final', 'stage', 'of', 'the', 'assessment', 'centre', 'this', 'will', 'involve', 'an', 'interview', 'with', 'a', 'delivery', 'service', 'manager', 'from', 'your', 'distribution', 'centre', 'Our', 'apprenticeship', 'is', 'a', 'broad', 'programme', 'covering', 'a', 'wide', 'range', 'of', 'content', 'focused', 'on', 'giving', 'you', 'the', 'knowledge', 'skills', 'and', 'behaviours', 'required', 'to', 'develop', 'an', 'in', 'depth', 'understanding', 'of', 'LGV', 'driving', 'You', 'll', 'obtain', 'a', 'BTEC', 'in', 'the', 'Principles', 'for', 'Carrying', 'and', 'Delivering', 'Goods', 'by', 'Road', 'On', 'completion', 'of', 'the', 'apprenticeship', 'programme', 'you', 'll', 'have', 'obtained', 'your', 'Class', '1', 'Category', 'C', 'E', 'driving', 'licence', 'If', 'you', 'need', 'to', 'you', 'll', 'have', 'an', 'opportunity', 'to', 'develop', 'your', 'maths', 'and', 'English', 'skills', 'LGV', 'Apprenticeship', '2019', 'United', 'Kingdom']\n",
      "\n",
      "dev_list_sentence1.txt: ['Sherfield', 'on', 'Loddon', '0', 'United', 'Kingdom', 'houskeeping', 'duties', 'UK', 'hospital', 'and', 'international', 'healthcare', 'producer', 'clerical', 'systems', 'duties', 'including', 'invoicing', 'location', 'of', 'goods', 'making', 'sure', 'stock', 'counting', 'is', 'up', 'to', 'date', 'dealing', 'with', 'lost', 'missused', 'or', 'out', 'of', 'date', 'goods', 'rectifying', 'any', 'issues', 'during', 'the', 'process', 'accepting', 'goods', 'or', 'rejecting', 'them', 'and', 'any', 'other', 'clerical', 'duties', 'that', 'arise', 'during', 'the', 'goods', 'in', 'process', 'or', 'maintaining', 'it', 'in', 'the', 'warehouse', 'task', 'motivated', 'team', 'achievement', 'spirit', 'very', 'positive', 'on', 'any', 'task', 'friendly', 'no', 'job', 'is', 'to', 'big']\n",
      "\n",
      "train_list_sentence2.txt: ['Able', 'to', 'give', 'great', 'natural', 'customer', 'service', 'by', 'proactively', 'smiling', 'greeting', 'acknowledging', 'and', 'helping', 'customers', 'Works', 'hard', 'for', 'customers', 'your', 'team', 'and', 'your', 'department', 'You', 'are', 'able', 'to', 'prioritise', 'to', 'ensure', 'anything', 'you', 'do', 'is', 'right', 'for', 'our', 'customers', 'Adaptable', 'and', 'resilient', 'to', 'meet', 'the', 'ever', 'changing', 'demands', 'of', 'our', 'business', 'You', 'must', 'be', 'able', 'to', 'follow', 'instructions', 'either', 'verbal', 'or', 'written', 'You', 'are', 'reliable', 'and', 'a', 'good', 'timekeeper', 'You', 'must', 'be', 'smart', 'and', 'tidy', 'at', 'all', 'times', 'Farronshoneen', 'Outer', 'Ring', 'Road', 'Ardkeen', 'Village', 'Waterford', 'Tesco', 'ArdkeenContract', 'Part', 'Time', 'TemporaryShift', 'Pattern', 'FlexibleWe', 'pride', 'ourselves', 'on', 'offering', 'customers', 'the', 'biggest', 'range', 'of', 'products', 'around', 'And', 'that', 's', 'not', 'just', 'food', 'but', 'everything', 'from', 'clothes', 'and', 'kettles', 'to', 'financial', 'services', 'But', 'did', 'you', 'know', 'we', 'offer', 'the', 'biggest', 'job', 'opportunities', 'too', 'With', 'stores', 'across', 'the', 'UK', 'and', 'Ireland', 'and', 'a', 'variety', 'of', 'roles', 'we', 'are', 'always', 'looking', 'for', 'people', 'who', 'are', 'as', 'passionate', 'about', 'helping', 'customers', 'as', 'we', 'are', 'Our', 'Every', 'Little', 'Helps', 'approach', 'doesn', 't', 'just', 'apply', 'to', 'our', 'customers', 'It', 's', 'at', 'the', 'very', 'heart', 'of', 'everything', 'we', 'do', 'at', 'work', 'and', 'it', 's', 'what', 'makes', 'us', 'different', 'We', 'believe', 'in', 'treating', 'each', 'other', 'with', 'respect', 'and', 'everyone', 'having', 'the', 'opportunity', 'to', 'get', 'on', 'That', 's', 'what', 'makes', 'Tesco', 'such', 'a', 'great', 'place', 'to', 'work', 'Always', 'put', 'the', 'customer', 'first', 'and', 'consider', 'them', 'in', 'everything', 'you', 'do', 'Get', 'to', 'know', 'your', 'customers', 'and', 'serve', 'them', 'with', 'pride', 'Help', 'to', 'ensure', 'products', 'and', 'services', 'are', 'available', 'for', 'customers', 'at', 'all', 'times', 'Handle', 'all', 'products', 'with', 'care', 'to', 'maintain', 'quality', 'and', 'ensure', 'they', 'reach', 'the', 'customer', 'in', 'the', 'best', 'condition', 'Keep', 'the', 'shop', 'floor', 'and', 'back', 'areas', 'clean', 'and', 'tidy', 'at', 'all', 'times', 'Using', 'the', 'training', 'you', 'receive', 'follow', 'department', 'routines', 'and', 'processes', 'Follow', 'all', 'company', 'policies', 'and', 'adhere', 'to', 'Health', 'and', 'Safety', 'routines', 'Whilst', 'you', 'will', 'have', 'a', 'core', 'role', 'you', 'may', 'be', 'asked', 'to', 'support', 'your', 'colleagues', 'by', 'helping', 'in', 'other', 'departments', 'Customer', 'Assistant', 'Part', 'Time', 'Balbriggan', 'Ireland']\n",
      "\n",
      "********************\n",
      "\n",
      "dev_list_gold_label.txt: 0\n",
      "\n",
      "test_list_sentence1.txt: ['Basingstoke', '0', 'United', 'Kingdom', 'Daily', 'duties', 'currently', 'include', 'Picking', 'stock', 'into', 'cages', 'and', 'taking', 'them', 'to', 'the', 'correct', 'location', 'Loading', 'and', 'unloading', 'trailers', 'Unloading', 'MU', 'dollies', 'and', 'moving', 'them', 'to', 'there', 'assigned', 'locations', 'I', 'am', 'also', 'a', 'Union', 'Representative', 'and', 'Health', 'Safety', 'Rep', 'I', 'would', 'would', 'the', 'cars', 'lights', 'systems', 'wipers', 'indicators', 'emissions', 'and', 'asses', 'the', 'depth', 'of', 'the', 'tread', 'on', 'the', 'tyres', 'As', 'the', 'car', 'was', 'rasied', 'in', 'the', 'air', 'so', 'the', 'M', 'O', 'T', 'tester', 'could', 'check', 'the', 'underwrok', 'of', 'the', 'car', 'i', 'would', 'write', 'down', 'any', 'problems', 'not', 'matter', 'how', 'small', 'I', 'started', 'as', 'a', 'part', 'timer', 'due', 'to', 'being', 'in', 'college', 'at', 'the', 'time', 'but', 'once', 'i', 'finished', 'my', 'courses', 'i', 'worked', 'more', 'hours', 'English', 'D', 'Maths', 'D', 'Science', 'C', 'C', 'Media', 'C', 'C', 'Art', 'C', 'C', 'ICT', 'C', 'Level', '1', 'Construction', 'Level', '1', 'Maintenace', 'Ops', 'Functional', 'Skills', 'Maths', 'Level', '2', '3', 'English', 'Level', '2', '3', 'Team', 'Player', 'Good', 'Listener', 'Hard', 'Worker', 'Quick', 'Learner', 'Problem', 'Solving']\n",
      "\n",
      "test_list_sentence2.txt: ['You', 'll', 'need', 'to', 'ensure', 'you', 'meet', 'the', 'following', 'criteria', 'You', 'work', 'for', 'Tesco', 'in', 'one', 'of', 'the', 'following', 'Distribution', 'Centres', 'Hinckley', 'Lichfield', 'Peterborough', 'Southampton', 'Avonmouth', 'Didcot', 'Reading', 'Thurrock', 'Dagenham', 'Daventry', 'Frozen', 'Stores', 'Bristol', 'Brislington', 'Bradley', 'Stoke', 'Yate', 'Bristol', 'Eastville', 'Customer', 'Fulfilment', 'Centres', 'Enfield', 'Aylesford', 'Croydon', 'Crawley', 'GreenfordYou', 'are', 'contracted', 'to', 'work', '30', 'hours', 'or', 'more', 'a', 'weekYou', 'hold', 'a', 'full', 'car', 'driving', 'licence', 'Category', 'B', 'entitlement', 'with', 'no', 'endorsementsYou', 'are', 'aged', 'over', '18', 'yearsYou', 'are', 'not', 'in', 'full', 'time', 'education', 'or', 'planning', 'to', 'return', 'within', 'the', 'next', '16', 'monthsYou', 'have', 'not', 'previously', 'started', 'or', 'completed', 'a', 'Level', '2', 'LGV', 'ApprenticeshipYou', 'must', 'have', 'the', 'right', 'to', 'work', 'in', 'the', 'UKYou', 'll', 'need', 'a', 'passion', 'for', 'learningYou', 'll', 'need', 'a', 'strong', 'interest', 'in', 'Distribution', 'and', 'the', 'role', 'of', 'a', 'driverYou', 'll', 'need', 'to', 'be', 'hands', 'on', 'and', 'willing', 'to', 'learn', 'at', 'every', 'opportunity', 'United', 'Kingdom', 'Our', 'apprenticeship', 'programme', 'is', 'aimed', 'at', 'colleagues', 'who', 'have', 'a', 'passion', 'for', 'learning', 'who', 'are', 'ambitious', 'and', 'determined', 'Join', 'the', 'apprenticeship', 'programme', 'and', 'you', 'll', 'learn', 'from', 'the', 'best', 'You', 'll', 'experience', 'different', 'areas', 'of', 'our', 'Distribution', 'operations', 'and', 'have', 'opportunities', 'to', 'work', 'in', 'areas', 'of', 'the', 'Distribution', 'Centre', 'you', 've', 'never', 'worked', 'in', 'before', 'In', 'collaboration', 'with', 'our', 'training', 'provider', 'South', 'Essex', 'College', 'we', 've', 'built', 'a', 'Level', '2', 'LGV', 'Apprenticeship', 'that', 'provides', 'the', 'foundation', 'knowledge', 'skills', 'and', 'experience', 'for', 'the', 'role', 'of', 'a', 'LGV', 'Driver', 'Driving', 'in', 'a', 'safe', 'and', 'fuel', 'efficient', 'manner', 'Apprenticeship', 'Standard', 'drivers', 'ensure', 'that', 'the', 'right', 'products', 'are', 'delivered', 'at', 'the', 'right', 'time', 'location', 'and', 'temperature', 'The', 'apprenticeship', 'takes', 'a', 'minimum', 'of', 'one', 'year', 'to', 'complete', 'and', 'you', 'll', 'be', 'guided', 'and', 'supported', 'by', 'a', 'South', 'Essex', 'College', 'apprenticeship', 'coach', 'as', 'well', 'as', 'your', 'manager', 'and', 'Distribution', 'team', 'If', 'you', 'd', 'like', 'a', 'change', 'in', 'career', 'path', 'this', 'is', 'a', 'great', 'place', 'to', 'start', 'As', 'part', 'of', 'the', 'selection', 'process', 'successful', 'candidates', 'will', 'be', 'invited', 'to', 'attend', 'an', 'assessment', 'centre', 'Stage', 'one', 'of', 'the', 'assessment', 'centre', 'will', 'be', 'a', 'function', 'skills', 'assessment', 'maths', 'and', 'English', 'and', 'a', 'vehicle', 'licence', 'and', 'qualification', 'check', 'Stage', 'two', 'will', 'involve', 'a', '40', 'minute', 'driving', 'assessment', 'with', 'a', 'Tesco', 'driver', 'trainerSuccessful', 'candidates', 'will', 'be', 'invited', 'to', 'the', 'final', 'stage', 'of', 'the', 'assessment', 'centre', 'this', 'will', 'involve', 'an', 'interview', 'with', 'a', 'delivery', 'service', 'manager', 'from', 'your', 'distribution', 'centre', 'Our', 'apprenticeship', 'is', 'a', 'broad', 'programme', 'covering', 'a', 'wide', 'range', 'of', 'content', 'focused', 'on', 'giving', 'you', 'the', 'knowledge', 'skills', 'and', 'behaviours', 'required', 'to', 'develop', 'an', 'in', 'depth', 'understanding', 'of', 'LGV', 'driving', 'You', 'll', 'obtain', 'a', 'BTEC', 'in', 'the', 'Principles', 'for', 'Carrying', 'and', 'Delivering', 'Goods', 'by', 'Road', 'On', 'completion', 'of', 'the', 'apprenticeship', 'programme', 'you', 'll', 'have', 'obtained', 'your', 'Class', '1', 'Category', 'C', 'E', 'driving', 'licence', 'If', 'you', 'need', 'to', 'you', 'll', 'have', 'an', 'opportunity', 'to', 'develop', 'your', 'maths', 'and', 'English', 'skills', 'LGV', 'Apprenticeship', '2019', 'United', 'Kingdom']\n",
      "\n",
      "train_list_sentence1.txt: ['0', 'rugby']\n",
      "\n",
      "test_list_gold_label.txt: 1\n",
      "\n",
      "train_list_gold_label.txt: 1\n",
      "\n",
      "dev_list_sentence2.txt: ['Able', 'to', 'give', 'great', 'natural', 'customer', 'service', 'by', 'proactively', 'smiling', 'greeting', 'acknowledging', 'and', 'helping', 'customers', 'Works', 'hard', 'for', 'customers', 'your', 'team', 'and', 'your', 'department', 'You', 'are', 'able', 'to', 'prioritise', 'to', 'ensure', 'anything', 'you', 'do', 'is', 'right', 'for', 'our', 'customers', 'Adaptable', 'and', 'resilient', 'to', 'meet', 'the', 'ever', 'changing', 'demands', 'of', 'our', 'business', 'You', 'must', 'be', 'able', 'to', 'follow', 'instructions', 'either', 'verbal', 'or', 'written', 'You', 'are', 'reliable', 'and', 'a', 'good', 'timekeeper', 'You', 'must', 'be', 'smart', 'and', 'tidy', 'at', 'all', 'times', 'Cresent', 'Shopping', 'Centre', 'Dooradoyle', 'Limerick', 'Tesco', 'DooradoyleContract', 'Part', 'Time', '25', '00', '30', '00Shift', 'Pattern', 'FlexibleWe', 'pride', 'ourselves', 'on', 'offering', 'customers', 'the', 'biggest', 'range', 'of', 'products', 'around', 'And', 'that', 's', 'not', 'just', 'food', 'but', 'everything', 'from', 'clothes', 'and', 'kettles', 'to', 'financial', 'services', 'But', 'did', 'you', 'know', 'we', 'offer', 'the', 'biggest', 'job', 'opportunities', 'too', 'With', 'stores', 'across', 'the', 'UK', 'and', 'Ireland', 'and', 'a', 'variety', 'of', 'roles', 'we', 'are', 'always', 'looking', 'for', 'people', 'who', 'are', 'as', 'passionate', 'about', 'helping', 'customers', 'as', 'we', 'are', 'Our', 'Every', 'Little', 'Helps', 'approach', 'doesn', 't', 'just', 'apply', 'to', 'our', 'customers', 'It', 's', 'at', 'the', 'very', 'heart', 'of', 'everything', 'we', 'do', 'at', 'work', 'and', 'it', 's', 'what', 'makes', 'us', 'different', 'We', 'believe', 'in', 'treating', 'each', 'other', 'with', 'respect', 'and', 'everyone', 'having', 'the', 'opportunity', 'to', 'get', 'on', 'That', 's', 'what', 'makes', 'Tesco', 'such', 'a', 'great', 'place', 'to', 'workShould', 'you', 'be', 'successful', 'in', 'your', 'application', 'your', 'offer', 'will', 'be', 'subject', 'to', 'and', 'conditional', 'upon', 'you', 'providing', 'your', 'bank', 'account', 'details', 'before', 'your', 'agreed', 'start', 'date', 'Always', 'put', 'the', 'customer', 'first', 'and', 'consider', 'them', 'in', 'everything', 'you', 'do', 'Get', 'to', 'know', 'your', 'customers', 'and', 'serve', 'them', 'with', 'pride', 'Help', 'to', 'ensure', 'products', 'and', 'services', 'are', 'available', 'for', 'customers', 'at', 'all', 'times', 'Handle', 'all', 'products', 'with', 'care', 'to', 'maintain', 'quality', 'and', 'ensure', 'they', 'reach', 'the', 'customer', 'in', 'the', 'best', 'condition', 'Keep', 'the', 'shop', 'floor', 'and', 'back', 'areas', 'clean', 'and', 'tidy', 'at', 'all', 'times', 'Using', 'the', 'training', 'you', 'receive', 'follow', 'department', 'routines', 'and', 'processes', 'Follow', 'all', 'company', 'policies', 'and', 'adhere', 'to', 'Health', 'and', 'Safety', 'routines', 'Whilst', 'you', 'will', 'have', 'a', 'core', 'role', 'you', 'may', 'be', 'asked', 'to', 'support', 'your', 'colleagues', 'by', 'helping', 'in', 'other', 'departments', 'Customer', 'Assistant', 'Part', 'Time', 'Dooradoyle', 'Ireland']\n",
      "\n",
      "dev_list_sentence1.txt: ['Limerick', '0', 'Ireland', 'Promoted', 'a', 'welcoming', 'environment', 'where', 'customers', 'received', 'great', 'service', 'and', 'strived', 'to', 'maintain', 'the', 'shop', 'to', 'exceptional', 'standards', 'Back', 'office', 'cash', 'occasionally', 'reconcile', 'the', 'stores', 'takings', 'Inventory', 'management', 'inputting', 'the', 'deliveries', 'into', 'the', 'computer', 'system', 'Planning', 'and', 'implementing', 'merchandising', 'for', 'instore', 'and', 'shop', 'displays', 'to', 'ensure', 'maximum', 'exposure', 'and', 'effectiveness', 'Upselling', 'to', 'maximise', 'the', 'average', 'customer', 'spend', 'Key', 'holder', 'responsible', 'for', 'opening', 'and', 'closing', 'the', 'store', 'Liaising', 'with', 'suppliers', 'and', 'wholesalers', 'through', 'attending', 'trade', 'shows', 'procuring', 'stock', 'Responsible', 'for', 'checking', 'and', 'unpacking', 'stock', 'deliveries', 'reporting', 'any', 'damages', 'or', 'defects', 'to', 'the', 'couriers', 'and', 'suppliers', 'correctly', 'pricing', 'items', 'and', 'displaying', 'goods', 'encouraging', 'customers', 'to', 'make', 'purchases', 'Working', 'as', 'a', 'cashier', 'Maintaining', 'a', 'tidy', 'store', 'sorting', 'sizes', 'and', 'ensuring', 'everything', 'was', 'where', 'it', 'should', 'be', 'Planning', 'and', 'implementing', 'merchandising', 'for', 'instore', 'and', 'shop', 'displays', 'to', 'ensure', 'maximum', 'exposure', 'and', 'effectiveness', 'Performing', 'stock', 'takes', 'generating', 'reports', 'and', 'preforming', 'recounts', 'if', 'needed', 'End', 'of', 'day', 'cashing', 'up', 'Same', 'Responsibilities', 'as', 'Adeela', 's', 'Managed', 'a', 'team', 'to', 'ensure', 'targets', 'were', 'exceeded', 'staff', 'were', 'motivated', 'and', 'customers', 'were', 'more', 'than', 'happy', 'Implemented', 'mentoring', 'for', 'underperforming', 'staff', 'Led', 'by', 'example', 'by', 'providing', 'exceptional', 'tailored', 'service', 'to', 'customers', 'Back', 'office', 'cash', 'daily', 'reconciling', 'the', 'stores', 'takings', 'Responsible', 'for', 'checking', 'and', 'unpacking', 'stock', 'deliveries', 'reporting', 'any', 'damages', 'or', 'defects', 'to', 'the', 'couriers', 'and', 'suppliers', 'correctly', 'pricing', 'items', 'and', 'displaying', 'goods', 'encouraging', 'customers', 'to', 'make', 'purchases', 'Worked', 'individually', 'using', 'own', 'initiative', 'as', 'well', 'as', 'part', 'of', 'a', 'team', 'fostering', 'a', 'strong', 'team', 'work', 'ethic', 'and', 'spirit', 'flexibility', 'and', 'motivation', 'Same', 'Responsibilities', 'as', 'Adeela', 's', 'Promoted', 'a', 'welcoming', 'environment', 'where', 'customers', 'received', 'great', 'service', 'and', 'strived', 'to', 'maintain', 'the', 'shop', 'to', 'exceptional', 'standards', 'Back', 'office', 'cash', 'occasionally', 'reconcile', 'the', 'stores', 'takings', 'Inventory', 'management', 'inputting', 'the', 'deliveries', 'into', 'the', 'computer', 'system', 'Planning', 'and', 'implementing', 'merchandising', 'for', 'instore', 'and', 'shop', 'displays', 'to', 'ensure', 'maximum', 'exposure', 'and', 'effectiveness', 'Upselling', 'to', 'maximise', 'the', 'average', 'customer', 'spend', 'Key', 'holder', 'responsible', 'for', 'opening', 'and', 'closing', 'the', 'store', 'Liaising', 'with', 'suppliers', 'and', 'wholesalers', 'through', 'attending', 'trade', 'shows', 'procuring', 'stock', 'Responsible', 'for', 'checking', 'and', 'unpacking', 'stock', 'deliveries', 'reporting', 'any', 'damages', 'or', 'defects', 'to', 'the', 'couriers', 'and', 'suppliers', 'correctly', 'pricing', 'items', 'and', 'displaying', 'goods', 'encouraging', 'customers', 'to', 'make', 'purchases', 'Working', 'as', 'a', 'cashier', 'Maintaining', 'a', 'tidy', 'store', 'sorting', 'sizes', 'and', 'ensuring', 'everything', 'was', 'where', 'it', 'should', 'be', 'Planning', 'and', 'implementing', 'merchandising', 'for', 'instore', 'and', 'shop', 'displays', 'to', 'ensure', 'maximum', 'exposure', 'and', 'effectiveness', 'Performing', 'stock', 'takes', 'generating', 'reports', 'and', 'preforming', 'recounts', 'if', 'needed', 'End', 'of', 'day', 'cashing', 'up', 'Same', 'Responsibilities', 'as', 'Adeela', 's', 'Managed', 'a', 'team', 'to', 'ensure', 'targets', 'were', 'exceeded', 'staff', 'were', 'motivated', 'and', 'customers', 'were', 'more', 'than', 'happy', 'Implemented', 'mentoring', 'for', 'underperforming', 'staff', 'Led', 'by', 'example', 'by', 'providing', 'exceptional', 'tailored', 'service', 'to', 'customers', 'Back', 'office', 'cash', 'daily', 'reconciling', 'the', 'stores', 'takings', 'Responsible', 'for', 'checking', 'and', 'unpacking', 'stock', 'deliveries', 'reporting', 'any', 'damages', 'or', 'defects', 'to', 'the', 'couriers', 'and', 'suppliers', 'correctly', 'pricing', 'items', 'and', 'displaying', 'goods', 'encouraging', 'customers', 'to', 'make', 'purchases', 'Worked', 'individually', 'using', 'own', 'initiative', 'as', 'well', 'as', 'part', 'of', 'a', 'team', 'fostering', 'a', 'strong', 'team', 'work', 'ethic', 'and', 'spirit', 'flexibility', 'and', 'motivation', 'Same', 'Responsibilities', 'as', 'Adeela', 's', 'to', 'Present', 'Promoted', 'a', 'welcoming', 'environment', 'where', 'customers', 'receive', 'great', 'service', 'and', 'strived', 'to', 'maintain', 'exceptional', 'standards', 'Inventory', 'management', 'inputting', 'the', 'deliveries', 'into', 'the', 'computer', 'system', 'Till', 'work', 'taking', 'sales', 'and', 'refunds', 'Learning', 'about', 'all', 'the', 'different', 'brands', 'such', 'as', 'Reiker', 'Caprice', 'Marco', 'Tozzi', 'Tarmaris', 'Steve', 'Madden', 'to', 'name', 'a', 'few', 'and', 'knowing', 'what', 'would', 'suit', 'each', 'customer', 'and', 'their', 'needs', 'Working', 'well', 'as', 'part', 'of', 'a', 'team', 'but', 'also', 'on', 'own', 'initiative', 'Planning', 'and', 'implementing', 'merchandising', 'for', 'instore', 'and', 'shop', 'displays', 'to', 'ensure', 'maximum', 'exposure', 'and', 'effectiveness', 'Tidying', 'and', 'cleaning', 'glass', 'shelves', 'stands', 'and', 'mirrors', 'daily', 'to', 'maintain', 'cleanliness', 'of', 'displays', 'Tidying', 'stockrooms', 'regularly', 'and', 'rotating', 'stock', 'to', 'make', 'room', 'for', 'new', 'stock', 'Upselling', 'to', 'maximise', 'the', 'average', 'customer', 'spent', 'Responsible', 'for', 'checking', 'and', 'unpacking', 'stock', 'deliveries', 'reporting', 'any', 'damages', 'or', 'defects', 'to', 'the', 'couriers', 'and', 'suppliers', 'correctly', 'pricing', 'items', 'and', 'displaying', 'goods', 'encouraging', 'customers', 'to', 'make', 'purchases', 'Ordering', 'stock', 'for', 'customers', 'from', 'our', 'other', 'stores', 'taking', 'details', 'and', 'letting', 'them', 'know', 'when', 'it', 'has', 'arrived', 'Getting', 'figures', 'every', 'morning', 'and', 'making', 'sure', 'all', 'matching', 'with', 'Dunnes', 'Stores', 'Taking', 'pictures', 'of', 'stock', 'and', 'reguraly', 'going', 'on', 'social', 'media', 'to', 'keep', 'customers', 'up', 'to', 'date', 'with', 'new', 'stock', 'and', 'the', 'latest', 'trends', 'also', 'helping', 'to', 'increase', 'sales', 'to', 'Promoted', 'a', 'welcoming', 'environment', 'where', 'customers', 'received', 'great', 'service', 'and', 'strived', 'to', 'maintain', 'the', 'shop', 'to', 'exceptional', 'standards', 'Back', 'office', 'cash', 'occasionally', 'reconcile', 'the', 'stores', 'takings', 'Inventory', 'management', 'inputting', 'the', 'deliveries', 'into', 'the', 'computer', 'system', 'Planning', 'and', 'implementing', 'merchandising', 'for', 'instore', 'and', 'shop', 'displays', 'to', 'ensure', 'maximum', 'exposure', 'and', 'effectiveness', 'Upselling', 'to', 'maximise', 'the', 'average', 'customer', 'spend', 'Key', 'holder', 'responsible', 'for', 'opening', 'and', 'closing', 'the', 'store', 'Taking', 'pictures', 'of', 'stock', 'and', 'reguraly', 'going', 'on', 'social', 'media', 'to', 'keep', 'customers', 'up', 'to', 'date', 'with', 'new', 'stock', 'and', 'the', 'latest', 'trends', 'also', 'helping', 'to', 'increase', 'sales', 'Liaising', 'with', 'suppliers', 'and', 'wholesalers', 'through', 'attending', 'trade', 'shows', 'procuring', 'stock', 'Responsible', 'for', 'checking', 'and', 'unpacking', 'stock', 'deliveries', 'reporting', 'any', 'damages', 'or', 'defects', 'to', 'the', 'couriers', 'and', 'suppliers', 'correctly', 'pricing', 'items', 'and', 'displaying', 'goods', 'encouraging', 'customers', 'to', 'make', 'purchases', 'to', 'Working', 'as', 'a', 'cashier', 'Maintaining', 'a', 'tidy', 'store', 'sorting', 'sizes', 'and', 'ensuring', 'everything', 'was', 'where', 'it', 'should', 'be', 'Planning', 'and', 'implementing', 'merchandising', 'for', 'instore', 'and', 'shop', 'displays', 'to', 'ensure', 'maximum', 'exposure', 'and', 'effectiveness', 'Performing', 'stock', 'takes', 'generating', 'reports', 'and', 'preforming', 'recounts', 'if', 'needed', 'End', 'of', 'day', 'cashing', 'up', 'to', 'Same', 'Responsibilities', 'as', 'Adeela', 's', 'to', 'Managed', 'a', 'team', 'to', 'ensure', 'targets', 'were', 'exceeded', 'staff', 'were', 'motivated', 'and', 'customers', 'were', 'more', 'than', 'happy', 'Implemented', 'mentoring', 'for', 'underperforming', 'staff', 'Led', 'by', 'example', 'by', 'providing', 'exceptional', 'tailored', 'service', 'to', 'customers', 'Back', 'office', 'cash', 'daily', 'reconciling', 'the', 'stores', 'takings', 'Responsible', 'for', 'checking', 'and', 'unpacking', 'stock', 'deliveries', 'reporting', 'any', 'damages', 'or', 'defects', 'to', 'the', 'couriers', 'and', 'suppliers', 'correctly', 'pricing', 'items', 'and', 'displaying', 'goods', 'encouraging', 'customers', 'to', 'make', 'purchases', 'Worked', 'individually', 'using', 'own', 'initiative', 'as', 'well', 'as', 'part', 'of', 'a', 'team', 'fostering', 'a', 'strong', 'team', 'work', 'ethic', 'and', 'spirit', 'flexibility', 'and', 'motivation', 'to', 'Same', 'Responsibilities', 'as', 'Adeela', 's', 'to', 'Present', 'Promoted', 'a', 'welcoming', 'environment', 'where', 'customers', 'receive', 'great', 'service', 'and', 'strived', 'to', 'maintain', 'exceptional', 'standards', 'Inventory', 'management', 'inputting', 'the', 'deliveries', 'into', 'the', 'computer', 'system', 'Till', 'work', 'taking', 'sales', 'and', 'refunds', 'Learning', 'about', 'all', 'the', 'different', 'brands', 'such', 'as', 'Reiker', 'Caprice', 'Marco', 'Tozzi', 'Tarmaris', 'Steve', 'Madden', 'to', 'name', 'a', 'few', 'and', 'knowing', 'what', 'would', 'suit', 'each', 'customer', 'and', 'their', 'needs', 'Working', 'well', 'as', 'part', 'of', 'a', 'team', 'but', 'also', 'on', 'own', 'initiative', 'Planning', 'and', 'implementing', 'merchandising', 'for', 'instore', 'and', 'shop', 'displays', 'to', 'ensure', 'maximum', 'exposure', 'and', 'effectiveness', 'Tidying', 'and', 'cleaning', 'glass', 'shelves', 'stands', 'and', 'mirrors', 'daily', 'to', 'maintain', 'cleanliness', 'of', 'displays', 'Tidying', 'stockrooms', 'regularly', 'and', 'rotating', 'stock', 'to', 'make', 'room', 'for', 'new', 'stock', 'Upselling', 'to', 'maximise', 'the', 'average', 'customer', 'spent', 'Responsible', 'for', 'checking', 'and', 'unpacking', 'stock', 'deliveries', 'reporting', 'any', 'damages', 'or', 'defects', 'to', 'the', 'couriers', 'and', 'suppliers', 'correctly', 'pricing', 'items', 'and', 'displaying', 'goods', 'encouraging', 'customers', 'to', 'make', 'purchases', 'Ordering', 'stock', 'for', 'customers', 'from', 'our', 'other', 'stores', 'taking', 'details', 'and', 'letting', 'them', 'know', 'when', 'it', 'has', 'arrived', 'Getting', 'figures', 'every', 'morning', 'and', 'making', 'sure', 'all', 'matching', 'with', 'Dunnes', 'Stores', 'Taking', 'pictures', 'of', 'stock', 'and', 'reguraly', 'going', 'on', 'social', 'media', 'to', 'keep', 'customers', 'up', 'to', 'date', 'with', 'new', 'stock', 'and', 'the', 'latest', 'trends', 'also', 'helping', 'to', 'increase', 'sales', 'to', 'Promoted', 'a', 'welcoming', 'environment', 'where', 'customers', 'received', 'great', 'service', 'and', 'strived', 'to', 'maintain', 'the', 'shop', 'to', 'exceptional', 'standards', 'Back', 'office', 'cash', 'occasionally', 'reconcile', 'the', 'stores', 'takings', 'Inventory', 'management', 'inputting', 'the', 'deliveries', 'into', 'the', 'computer', 'system', 'Planning', 'and', 'implementing', 'merchandising', 'for', 'instore', 'and', 'shop', 'displays', 'to', 'ensure', 'maximum', 'exposure', 'and', 'effectiveness', 'Upselling', 'to', 'maximise', 'the', 'average', 'customer', 'spend', 'Key', 'holder', 'responsible', 'for', 'opening', 'and', 'closing', 'the', 'store', 'Taking', 'pictures', 'of', 'stock', 'and', 'reguraly', 'going', 'on', 'social', 'media', 'to', 'keep', 'customers', 'up', 'to', 'date', 'with', 'new', 'stock', 'and', 'the', 'latest', 'trends', 'also', 'helping', 'to', 'increase', 'sales', 'Liaising', 'with', 'suppliers', 'and', 'wholesalers', 'through', 'attending', 'trade', 'shows', 'procuring', 'stock', 'Responsible', 'for', 'checking', 'and', 'unpacking', 'stock', 'deliveries', 'reporting', 'any', 'damages', 'or', 'defects', 'to', 'the', 'couriers', 'and', 'suppliers', 'correctly', 'pricing', 'items', 'and', 'displaying', 'goods', 'encouraging', 'customers', 'to', 'make', 'purchases', 'to', 'Working', 'as', 'a', 'cashier', 'Maintaining', 'a', 'tidy', 'store', 'sorting', 'sizes', 'and', 'ensuring', 'everything', 'was', 'where', 'it', 'should', 'be', 'Planning', 'and', 'implementing', 'merchandising', 'for', 'instore', 'and', 'shop', 'displays', 'to', 'ensure', 'maximum', 'exposure', 'and', 'effectiveness', 'Performing', 'stock', 'takes', 'generating', 'reports', 'and', 'preforming', 'recounts', 'if', 'needed', 'End', 'of', 'day', 'cashing', 'up', 'to', 'Same', 'Responsibilities', 'as', 'Adeela', 's', 'to', 'Managed', 'a', 'team', 'to', 'ensure', 'targets', 'were', 'exceeded', 'staff', 'were', 'motivated', 'and', 'customers', 'were', 'more', 'than', 'happy', 'Implemented', 'mentoring', 'for', 'underperforming', 'staff', 'Led', 'by', 'example', 'by', 'providing', 'exceptional', 'tailored', 'service', 'to', 'customers', 'Back', 'office', 'cash', 'daily', 'reconciling', 'the', 'stores', 'takings', 'Responsible', 'for', 'checking', 'and', 'unpacking', 'stock', 'deliveries', 'reporting', 'any', 'damages', 'or', 'defects', 'to', 'the', 'couriers', 'and', 'suppliers', 'correctly', 'pricing', 'items', 'and', 'displaying', 'goods', 'encouraging', 'customers', 'to', 'make', 'purchases', 'Worked', 'individually', 'using', 'own', 'initiative', 'as', 'well', 'as', 'part', 'of', 'a', 'team', 'fostering', 'a', 'strong', 'team', 'work', 'ethic', 'and', 'spirit', 'flexibility', 'and', 'motivation', 'to', 'Same', 'Responsibilities', 'as', 'Adeela', 's', 'Certificate', 'in', 'Childcare', 'FETAC', 'Level', '5', 'Supervision', 'in', 'Childcare', 'FETAC', 'Level', '6', 'Certificate', 'in', 'Childcare', 'FETAC', 'Level', '5', 'Supervision', 'in', 'Childcare', 'FETAC', 'Level', '6', 'Certificate', 'level', '6', 'in', 'Supervision', 'in', 'Chidcare', 'Central', 'College', 'Limerick', 'Limerick', 'September', '2009', 'to', 'May', '2010', 'Certificate', 'in', 'Childcare', 'Level', '5', 'Central', 'College', 'Limerick', 'Limerick', 'September', '2004', 'to', 'May', '2005', 'Certificate', 'level', '6', 'in', 'Supervision', 'in', 'Chidcare', 'Central', 'College', 'Limerick', 'Limerick', 'September', '2009', 'to', 'May', '2010', 'Certificate', 'in', 'Childcare', 'Level', '5', 'Central', 'College', 'Limerick', 'Limerick', 'September', '2004', 'to', 'May', '2005', 'Retail', 'Customer', 'service', 'Till', 'work', 'Stock', 'taking', 'Stock', 'replenishment']\n",
      "\n",
      "train_list_sentence2.txt: ['Strong', 'understanding', 'and', 'experience', 'in', 'Government', 'Affairs', 'in', 'the', 'UK', 'EU', 'ideally', 'with', 'some', 'experience', 'in', 'the', 'area', 'of', 'retail', 'product', 'or', 'consumer', 'facing', 'businessExcellent', 'executional', 'skills', 'with', 'a', 'proven', 'track', 'record', 'in', 'demonstrating', 'sound', 'political', 'judgementExcellent', 'written', 'and', 'oral', 'communications', 'skills', 'with', 'the', 'ability', 'to', 'make', 'the', 'complex', 'simpleHigh', 'integrity', 'demonstrating', 'trust', 'openness', 'and', 'a', 'determination', 'to', 'succeedProven', 'experience', 'in', 'managing', 'people', 'and', 'leading', 'teamsAn', 'ability', 'to', 'juggle', 'many', 'and', 'often', 'competing', 'demands', 'recognising', 'and', 'prioritising', 'what', 'matters', 'to', 'the', 'businessCustomer', 'empathy', 'and', 'strong', 'emotional', 'intelligenceAn', 'ability', 'to', 'operate', 'at', 'a', 'senior', 'working', 'in', 'partnership', 'and', 'gaining', 'trust', 'Welwyn', 'Garden', 'City', 'Hertfordshire', 'This', 'is', 'a', 'high', 'profile', 'position', 'requiring', 'both', 'the', 'ability', 'to', 'provide', 'strategic', 'vision', 'and', 'direction', 'as', 'well', 'as', 'team', 'management', 'and', 'hands', 'on', 'support', 'As', 'a', 'business', 'with', 'millions', 'of', 'customers', 'thousands', 'of', 'stores', 'and', '320', '000', 'UK', 'Colleagues', 'our', 'reach', 'relevance', 'and', 'impact', 'is', 'significant', 'right', 'across', 'the', 'UK', 'The', 'role', 'sits', 'within', 'Tesco', 's', 'Group', 'Legal', 'team', 'and', 'reports', 'into', 'our', 'new', 'Government', 'Relations', 'Director', 'During', 'a', 'time', 'of', 'heightened', 'political', 'challenges', 'the', 'opportunity', 'is', 'exciting', 'and', 'hugely', 'challenging', 'providing', 'the', 'chance', 'to', 'operate', 'at', 'the', 'heart', 'of', 'the', 'organisation', 'You', 'will', 'influence', 'policy', 'in', 'areas', 'crucial', 'to', 'our', 'business', 'recognising', 'our', 'significance', 'both', 'in', 'the', 'UK', 'and', 'globally', 'in', 'agriculture', 'and', 'food', 'manufacturing', 'sectors', 'You', 'would', 'also', 'be', 'responsible', 'for', 'leading', 'our', 'Group', 'approach', 'to', 'Brexit', 'identifying', 'emerging', 'risk', 'and', 'making', 'our', 'voice', 'heard', 'on', 'those', 'policy', 'issues', 'critical', 'to', 'our', 'business', 'Understanding', 'the', 'core', 'of', 'Tesco', 's', 'brand', 'and', 'strategy', 'and', 'translating', 'it', 'into', 'a', 'political', 'one', 'will', 'be', 'central', 'to', 'the', 'role', 'This', 'will', 'help', 'to', 'development', 'a', 'proactive', 'strategic', 'agenda', 'which', 'will', 'be', 'anchored', 'around', '4', 'pillars', '1', 'Licence', 'to', 'Operate', 'political', 'risks', 'and', 'opportunities', 'that', 'affect', 'our', 'ability', 'and', 'cost', 'to', 'trade2', 'Supply', 'Chain3', 'Health4', 'BrexitClick', 'the', 'link', 'below', 'to', 'hear', 'directly', 'from', 'the', 'Group', 'Legal', 'team', 'on', 'their', 'experiences', 'at', 'Tesco', 'https', 'www', 'youtube', 'com', 'watch', 'v', 'D2hD64QaJJk', 'Acting', 'as', 'joint', 'day', 'to', 'day', 'lead', 'for', 'the', 'Group', 'Government', 'Affairs', 'team', 'both', 'inside', 'the', 'business', 'and', 'with', 'external', 'stakeholdersSupporting', 'the', 'Director', 'of', 'Government', 'Relations', 'to', 'develop', 'Tesco', 's', 'public', 'policy', 'strategy', 'in', 'the', 'UK', 'and', 'EUDelivering', 'our', 'engagement', 'and', 'influencing', 'strategy', 'on', 'key', 'public', 'policy', 'issues', 'that', 'best', 'protect', 'and', 'promote', 'the', 'businessManaging', 'a', 'small', 'team', 'of', 'Government', 'Relations', 'Managers', 'Executives', 'to', 'deliver', 'the', 'pre', 'agreed', 'programme', 'of', 'workAligning', 'with', 'the', 'International', 'Government', 'Relations', 'Managers', 'and', 'Group', 'Communications', 'team', 'to', 'ensure', 'coordinated', 'policy', 'positionsInfluencing', 'the', 'business', 'to', 'adopt', 'public', 'policy', 'positions', 'that', 'will', 'give', 'brand', 'competitive', 'advantageRepresenting', 'Tesco', 'externally', 'both', 'as', 'a', 'proactive', 'brand', 'Ambassador', 'and', 'robust', 'reactive', 'defenderManaging', 'Tesco', 's', 'relationship', 'with', 'key', 'trade', 'bodies', 'to', 'influence', 'their', 'policy', 'positions', 'and', 'engagement', 'strategiesLeading', 'on', 'crisis', 'management', 'as', 'it', 'relates', 'to', 'public', 'policyIn', 'partnership', 'with', 'the', 'Government', 'Relations', 'Director', 'ensuring', 'the', 'team', 'spend', 'aligns', 'with', 'the', 'budget', 'and', 'offers', 'great', 'value', 'for', 'money', 'for', 'the', 'business', 'Head', 'of', 'Government', 'Relations', 'United', 'Kingdom']\n",
      "\n",
      "********************\n",
      "\n"
     ]
    }
   ],
   "source": [
    "for i in range(3):\n",
    "    for filename in data_dict:\n",
    "        print(f\"{filename}: {data_dict[filename][i]}\")\n",
    "        print()\n",
    "    print('*'*20)\n",
    "    print()"
   ]
  },
  {
   "cell_type": "code",
   "execution_count": 7,
   "metadata": {},
   "outputs": [
    {
     "name": "stdout",
     "output_type": "stream",
     "text": [
      "dev_list_gold_label.txt: 10395\n",
      "\n",
      "test_list_sentence1.txt: 10464\n",
      "\n",
      "test_list_sentence2.txt: 10464\n",
      "\n",
      "train_list_sentence1.txt: 183875\n",
      "\n",
      "test_list_gold_label.txt: 10464\n",
      "\n",
      "train_list_gold_label.txt: 183875\n",
      "\n",
      "dev_list_sentence2.txt: 10395\n",
      "\n",
      "dev_list_sentence1.txt: 10395\n",
      "\n",
      "train_list_sentence2.txt: 183875\n",
      "\n"
     ]
    }
   ],
   "source": [
    "for filename in data_dict:\n",
    "    print(f\"{filename}: {len(data_dict[filename])}\")\n",
    "    print()"
   ]
  },
  {
   "cell_type": "code",
   "execution_count": 8,
   "metadata": {},
   "outputs": [],
   "source": [
    "from collections import Counter\n",
    "import matplotlib.pyplot as plt"
   ]
  },
  {
   "cell_type": "code",
   "execution_count": 9,
   "metadata": {},
   "outputs": [],
   "source": [
    "def show_token_count_distribution(file):\n",
    "    token_counter = Counter([len(x) for x in data_dict[file]])\n",
    "    plt.bar(token_counter.keys(), token_counter.values())\n",
    "    print(token_counter)"
   ]
  },
  {
   "cell_type": "code",
   "execution_count": 10,
   "metadata": {},
   "outputs": [],
   "source": [
    "import pandas as pd\n",
    "\n",
    "def show_statistics(filename):\n",
    "    series = pd.Series([len(x) for x in data_dict[filename]])\n",
    "    print(series.describe())"
   ]
  },
  {
   "cell_type": "code",
   "execution_count": 11,
   "metadata": {},
   "outputs": [
    {
     "name": "stdout",
     "output_type": "stream",
     "text": [
      "Statistics for test_list_sentence1.txt\n",
      "count    10464.000000\n",
      "mean        79.445910\n",
      "std        199.266508\n",
      "min          2.000000\n",
      "25%          8.000000\n",
      "50%         15.000000\n",
      "75%         51.000000\n",
      "max       7170.000000\n",
      "dtype: float64\n",
      "\n",
      "Statistics for test_list_sentence2.txt\n",
      "count    10464.000000\n",
      "mean       272.097095\n",
      "std         44.829902\n",
      "min          2.000000\n",
      "25%        257.000000\n",
      "50%        278.000000\n",
      "75%        288.000000\n",
      "max        785.000000\n",
      "dtype: float64\n",
      "\n",
      "Statistics for train_list_sentence1.txt\n",
      "count    183875.000000\n",
      "mean         78.933134\n",
      "std         203.100888\n",
      "min           2.000000\n",
      "25%           8.000000\n",
      "50%          15.000000\n",
      "75%          49.000000\n",
      "max       10356.000000\n",
      "dtype: float64\n",
      "\n",
      "Statistics for dev_list_sentence2.txt\n",
      "count    10395.000000\n",
      "mean       271.025301\n",
      "std         43.227478\n",
      "min          2.000000\n",
      "25%        257.000000\n",
      "50%        278.000000\n",
      "75%        288.000000\n",
      "max        811.000000\n",
      "dtype: float64\n",
      "\n",
      "Statistics for dev_list_sentence1.txt\n",
      "count    10395.000000\n",
      "mean        81.540837\n",
      "std        207.812631\n",
      "min          2.000000\n",
      "25%          8.000000\n",
      "50%         16.000000\n",
      "75%         53.000000\n",
      "max       5592.000000\n",
      "dtype: float64\n",
      "\n",
      "Statistics for train_list_sentence2.txt\n",
      "count    183875.000000\n",
      "mean        271.865844\n",
      "std          44.988560\n",
      "min           2.000000\n",
      "25%         257.000000\n",
      "50%         278.000000\n",
      "75%         288.000000\n",
      "max        1073.000000\n",
      "dtype: float64\n",
      "\n"
     ]
    }
   ],
   "source": [
    "for filename in data_dict:\n",
    "    if 'gold' not in filename:\n",
    "        print(f\"Statistics for {filename}\")\n",
    "        show_statistics(filename)\n",
    "        print()"
   ]
  },
  {
   "attachments": {},
   "cell_type": "markdown",
   "metadata": {},
   "source": [
    "### What proportion of each are over 152 tokens? "
   ]
  },
  {
   "cell_type": "code",
   "execution_count": 12,
   "metadata": {},
   "outputs": [
    {
     "name": "stdout",
     "output_type": "stream",
     "text": [
      "Proportion of sentences with more than 152 tokens in test_list_sentence1.txt\n",
      "Proportion of sentences with more than 152 tokens: 0.13799694189602446\n",
      "None\n",
      "\n",
      "Proportion of sentences with more than 152 tokens in test_list_sentence2.txt\n",
      "Proportion of sentences with more than 152 tokens: 0.9977064220183486\n",
      "None\n",
      "\n",
      "Proportion of sentences with more than 152 tokens in train_list_sentence1.txt\n"
     ]
    },
    {
     "name": "stdout",
     "output_type": "stream",
     "text": [
      "Proportion of sentences with more than 152 tokens: 0.1368103331067301\n",
      "None\n",
      "\n",
      "Proportion of sentences with more than 152 tokens in dev_list_sentence2.txt\n",
      "Proportion of sentences with more than 152 tokens: 0.997017797017797\n",
      "None\n",
      "\n",
      "Proportion of sentences with more than 152 tokens in dev_list_sentence1.txt\n",
      "Proportion of sentences with more than 152 tokens: 0.14102934102934103\n",
      "None\n",
      "\n",
      "Proportion of sentences with more than 152 tokens in train_list_sentence2.txt\n",
      "Proportion of sentences with more than 152 tokens: 0.9974221617946974\n",
      "None\n",
      "\n"
     ]
    }
   ],
   "source": [
    "def show_proportion_above_x_tokens(filename, token_count = 152):\n",
    "    series = pd.Series([len(x) for x in data_dict[filename]])\n",
    "    print(f\"Proportion of sentences with more than {token_count} tokens: {len(series[series > token_count]) / len(series)}\")\n",
    "    \n",
    "for filename in data_dict:\n",
    "    if 'gold' not in filename:\n",
    "        print(f\"Proportion of sentences with more than 152 tokens in {filename}\")\n",
    "        print(show_proportion_above_x_tokens(filename))\n",
    "        print()"
   ]
  },
  {
   "attachments": {},
   "cell_type": "markdown",
   "metadata": {},
   "source": [
    "interviewed data"
   ]
  },
  {
   "cell_type": "code",
   "execution_count": 13,
   "metadata": {},
   "outputs": [],
   "source": [
    "data_dir = \"../data/matched/reformatted/interviewed/\""
   ]
  },
  {
   "cell_type": "code",
   "execution_count": 14,
   "metadata": {},
   "outputs": [
    {
     "name": "stdout",
     "output_type": "stream",
     "text": [
      "filename: dev_list_gold_label.txt\n",
      "filename: test_list_sentence1.txt\n",
      "filename: test_list_sentence2.txt\n"
     ]
    },
    {
     "name": "stdout",
     "output_type": "stream",
     "text": [
      "filename: train_list_sentence1.txt\n",
      "filename: test_list_gold_label.txt\n",
      "filename: train_list_gold_label.txt\n",
      "filename: dev_list_sentence2.txt\n",
      "filename: dev_list_sentence1.txt\n"
     ]
    }
   ],
   "source": [
    "data_dict = {}\n",
    "for filename in os.listdir(data_dir):\n",
    "    if 'list' in filename:\n",
    "        if 'train_list_sentence2.txt' not in filename: # this one causes a crash\n",
    "            print(f'filename: {filename}')\n",
    "            with open(data_dir + filename, \"rb\") as f:\n",
    "                data_dict[filename] = pickle.load(f)"
   ]
  },
  {
   "cell_type": "code",
   "execution_count": 15,
   "metadata": {},
   "outputs": [
    {
     "name": "stdout",
     "output_type": "stream",
     "text": [
      "Statistics for test_list_sentence1.txt\n",
      "count    20331.000000\n",
      "mean        37.217009\n",
      "std         43.779990\n",
      "min          2.000000\n",
      "25%          8.000000\n",
      "50%         15.000000\n",
      "75%         45.000000\n",
      "max        128.000000\n",
      "dtype: float64\n",
      "\n",
      "Statistics for test_list_sentence2.txt\n",
      "count    20331.000000\n",
      "mean       127.782254\n",
      "std          5.087329\n",
      "min          2.000000\n",
      "25%        128.000000\n",
      "50%        128.000000\n",
      "75%        128.000000\n",
      "max        128.000000\n",
      "dtype: float64\n",
      "\n",
      "Statistics for train_list_sentence1.txt\n",
      "count    355812.000000\n",
      "mean         36.931857\n",
      "std          43.596477\n",
      "min           2.000000\n",
      "25%           8.000000\n",
      "50%          15.000000\n",
      "75%          45.000000\n",
      "max         128.000000\n",
      "dtype: float64\n",
      "\n",
      "Statistics for dev_list_sentence2.txt\n",
      "count    20199.000000\n",
      "mean       127.815733\n",
      "std          4.723812\n",
      "min          2.000000\n",
      "25%        128.000000\n",
      "50%        128.000000\n",
      "75%        128.000000\n",
      "max        128.000000\n",
      "dtype: float64\n",
      "\n",
      "Statistics for dev_list_sentence1.txt\n",
      "count    20199.000000\n",
      "mean        37.701272\n",
      "std         44.039736\n",
      "min          2.000000\n",
      "25%          8.000000\n",
      "50%         15.000000\n",
      "75%         48.000000\n",
      "max        128.000000\n",
      "dtype: float64\n",
      "\n"
     ]
    }
   ],
   "source": [
    "for filename in data_dict:\n",
    "    if 'gold' not in filename:\n",
    "        print(f\"Statistics for {filename}\")\n",
    "        show_statistics(filename)\n",
    "        print()"
   ]
  },
  {
   "cell_type": "code",
   "execution_count": 16,
   "metadata": {},
   "outputs": [
    {
     "name": "stdout",
     "output_type": "stream",
     "text": [
      "dev_list_gold_label.txt: 0\n",
      "\n",
      "test_list_sentence1.txt: ['Basingstoke', '0', 'United', 'Kingdom', 'Team', 'Player', 'Good', 'Listener', 'Hard', 'Worker', 'Quick', 'Learner', 'Problem', 'Solving', 'Daily', 'duties', 'currently', 'include', 'Picking', 'stock', 'into', 'cages', 'and', 'taking', 'them', 'to', 'the', 'correct', 'location', 'Loading', 'and', 'unloading', 'trailers', 'Unloading', 'MU', 'dollies', 'and', 'moving', 'them', 'to', 'there', 'assigned', 'locations', 'I', 'am', 'also', 'a', 'Union', 'Representative', 'and', 'Health', 'Safety', 'Rep', 'I', 'would', 'would', 'the', 'cars', 'lights', 'systems', 'wipers', 'indicators', 'emissions', 'and', 'asses', 'the', 'depth', 'of', 'the', 'tread', 'on', 'the', 'tyres', 'As', 'the', 'car', 'was', 'rasied', 'in', 'the', 'air', 'so', 'the', 'M', 'O', 'T', 'tester', 'could', 'check', 'the', 'underwrok', 'of', 'the', 'car', 'i', 'would', 'write', 'down', 'any', 'problems', 'not', 'matter', 'how', 'small', 'I', 'started', 'as', 'a', 'part', 'timer', 'due', 'to', 'being', 'in', 'college', 'at', 'the', 'time', 'but', 'once', 'i', 'finished', 'my', 'courses', 'i', 'worked', 'more', 'hours']\n",
      "\n",
      "test_list_sentence2.txt: ['United', 'Kingdom', 'United', 'Kingdom', 'Our', 'apprenticeship', 'programme', 'is', 'aimed', 'at', 'colleagues', 'who', 'have', 'a', 'passion', 'for', 'learning', 'who', 'are', 'ambitious', 'and', 'determined', 'Join', 'the', 'apprenticeship', 'programme', 'and', 'you', 'll', 'learn', 'from', 'the', 'best', 'You', 'll', 'experience', 'different', 'areas', 'of', 'our', 'Distribution', 'operations', 'and', 'have', 'opportunities', 'to', 'work', 'in', 'areas', 'of', 'the', 'Distribution', 'Centre', 'you', 've', 'never', 'worked', 'in', 'before', 'In', 'collaboration', 'with', 'our', 'training', 'provider', 'South', 'Essex', 'College', 'we', 've', 'built', 'a', 'Level', '2', 'LGV', 'Apprenticeship', 'that', 'provides', 'the', 'foundation', 'knowledge', 'skills', 'and', 'experience', 'for', 'the', 'role', 'of', 'a', 'LGV', 'Driver', 'Driving', 'in', 'a', 'safe', 'and', 'fuel', 'efficient', 'manner', 'Apprenticeship', 'Standard', 'drivers', 'ensure', 'that', 'the', 'right', 'products', 'are', 'delivered', 'at', 'the', 'right', 'time', 'location', 'and', 'temperature', 'The', 'apprenticeship', 'takes', 'a', 'minimum', 'of', 'one', 'year', 'to', 'complete', 'and', 'you']\n",
      "\n",
      "train_list_sentence1.txt: ['Co', 'Tipperary', '0', 'Ireland', 'I', 'am', 'a', 'quick', 'learner', 'i', 'am', 'a', 'good', 'timekeeper', 'i', 'would', 'love', 'the', 'opportunity', 'to', 'work', 'with', 'Tescos', 'I', 'have', 'excellent', 'computer', 'skills', 'I', 'get', 'on', 'well', 'with', 'people', 'I', 'am', 'a', 'hard', 'worker', 'and', 'good', 'time', 'keeper', 'I', 'am', 'a', 'hard', 'worker', 'I', 'am', 'a', 'good', 'time', 'keeper', 'and', 'get', 'on', 'well', 'with', 'people', 'I', 'am', 'a', 'good', 'time', 'keeper', 'and', 'a', 'hard', 'worker', 'I', 'am', 'good', 'on', 'self', 'service', 'I', 'have', 'excellent', 'computer', 'skills', 'I', 'am', 'very', 'pleasant', 'and', 'very', 'trustworthy', 'I', 'have', 'been', 'taking', 'on', 'by', 'tescos', 'in', 'Thurles', 'but', 'because', 'of', 'the', 'distance', 'they', 'said', 'I', 'would', 'be', 'better', 'o', 'Thurles', 'store', 'took', 'me', 'on', 'because', 'of', 'the', 'distance', 'they', 'said', 'Nenagh', 'would', 'be', 'better', 'for', 'me', 'I', 'worked']\n",
      "\n",
      "test_list_gold_label.txt: 1\n",
      "\n",
      "train_list_gold_label.txt: 0\n",
      "\n",
      "dev_list_sentence2.txt: ['Ireland', 'Wexford', 'Road', 'Arklow', 'Wicklow', 'Tesco', 'Arklow', 'SquareContract', 'Part', 'Time', 'TemporaryShift', 'Pattern', 'FlexibleWe', 'pride', 'ourselves', 'on', 'offering', 'customers', 'the', 'biggest', 'range', 'of', 'products', 'around', 'And', 'that', 's', 'not', 'just', 'food', 'but', 'everything', 'from', 'clothes', 'and', 'kettles', 'to', 'financial', 'services', 'But', 'did', 'you', 'know', 'we', 'offer', 'the', 'biggest', 'job', 'opportunities', 'too', 'With', 'stores', 'across', 'the', 'UK', 'and', 'Ireland', 'and', 'a', 'variety', 'of', 'roles', 'we', 'are', 'always', 'looking', 'for', 'people', 'who', 'are', 'as', 'passionate', 'about', 'helping', 'customers', 'as', 'we', 'are', 'Our', 'Every', 'Little', 'Helps', 'approach', 'doesn', 't', 'just', 'apply', 'to', 'our', 'customers', 'It', 's', 'at', 'the', 'very', 'heart', 'of', 'everything', 'we', 'do', 'at', 'work', 'and', 'it', 's', 'what', 'makes', 'us', 'different', 'We', 'believe', 'in', 'treating', 'each', 'other', 'with', 'respect', 'and', 'everyone', 'having', 'the', 'opportunity', 'to', 'get', 'on', 'That', 's', 'what']\n",
      "\n",
      "dev_list_sentence1.txt: ['Enniscorthy', 'Co', 'Wexford', '0', 'Ireland', 'Assisting', 'customers', 'to', 'find', 'the', 'goods', 'and', 'products', 'they', 'are', 'looking', 'for', 'in', 'the', 'store', 'Giving', 'advice', 'and', 'guidance', 'on', 'product', 'selection', 'to', 'customers', 'I', 'care', 'passionately', 'about', 'the', 'customers', 'and', 'colleagues', 'I', 'can', 'challenge', 'myself', 'to', 'always', 'improve', 'what', 'I', 'can', 'do', 'for', 'customers', 'I', 'achieve', 'great', 'things', 'and', 'always', 'try', 'to', 'do', 'it', 'in', 'the', 'right', 'way', 'I', 'can', 'be', 'a', 'diligent', 'worker', 'I', 'am', 'supporting', 'operating', 'units', 'and', 'recommending', 'strategic', 'change', 'Very', 'Good', 'communication', 'skills', 'Have', 'an', 'interest', 'in', 'helping', 'customers', 'Working', 'as', 'part', 'of', 'a', 'team', 'Well', 'presented', 'polite', 'and', 'tactful', 'Can', 'handle', 'complaints', 'in', 'a', 'calm', 'manner', 'Very', 'good', 'IT', 'skills', 'Good', 'numeracy', 'skills', 'Sensitivity', 'Patience', 'and', 'the', 'ability', 'to', 'remain', 'calm', 'in', 'stressful', 'situations', 'Excellent', 'verbal', 'communication']\n",
      "\n",
      "********************\n",
      "\n",
      "dev_list_gold_label.txt: 0\n",
      "\n",
      "test_list_sentence1.txt: ['0', 'Microsoft', 'Office', 'Customer', 'service', 'skills', 'Adobe', 'Photoshop', 'Lightroom', 'InDesign', 'Hard', 'working', 'Customer', 'care', 'in', 'Retail', 'Good', 'social', 'skills', 'Good', 'leadership', 'skills', 'Good', 'under', 'instruction', 'as', 'well', 'as', 'being', 'capable', 'working', 'efficiently', 'innovatively', 'and', 'independently', 'Communication', 'skills', 'Organisation', 'skills']\n",
      "\n",
      "test_list_sentence2.txt: ['Ireland', 'Limerick', 'Road', 'Newcastlewest', 'Limerick', 'Tesco', 'NewcastlewestContract', 'Part', 'Time', 'TemporaryShift', 'Pattern', 'FlexibleWe', 'pride', 'ourselves', 'on', 'offering', 'customers', 'the', 'biggest', 'range', 'of', 'products', 'around', 'And', 'that', 's', 'not', 'just', 'food', 'but', 'everything', 'from', 'clothes', 'and', 'kettles', 'to', 'financial', 'services', 'But', 'did', 'you', 'know', 'we', 'offer', 'the', 'biggest', 'job', 'opportunities', 'too', 'With', 'stores', 'across', 'the', 'UK', 'and', 'Ireland', 'and', 'a', 'variety', 'of', 'roles', 'we', 'are', 'always', 'looking', 'for', 'people', 'who', 'are', 'as', 'passionate', 'about', 'helping', 'customers', 'as', 'we', 'are', 'Our', 'Every', 'Little', 'Helps', 'approach', 'doesn', 't', 'just', 'apply', 'to', 'our', 'customers', 'It', 's', 'at', 'the', 'very', 'heart', 'of', 'everything', 'we', 'do', 'at', 'work', 'and', 'it', 's', 'what', 'makes', 'us', 'different', 'We', 'believe', 'in', 'treating', 'each', 'other', 'with', 'respect', 'and', 'everyone', 'having', 'the', 'opportunity', 'to', 'get', 'on', 'That', 's', 'what', 'makes']\n",
      "\n",
      "train_list_sentence1.txt: ['Enniscorthy', 'Co', 'Wexford', '0', 'Ireland', 'Assisting', 'customers', 'to', 'find', 'the', 'goods', 'and', 'products', 'they', 'are', 'looking', 'for', 'in', 'the', 'store', 'Giving', 'advice', 'and', 'guidance', 'on', 'product', 'selection', 'to', 'customers', 'I', 'care', 'passionately', 'about', 'the', 'customers', 'and', 'colleagues', 'I', 'can', 'challenge', 'myself', 'to', 'always', 'improve', 'what', 'I', 'can', 'do', 'for', 'customers', 'I', 'achieve', 'great', 'things', 'and', 'always', 'try', 'to', 'do', 'it', 'in', 'the', 'right', 'way', 'I', 'can', 'be', 'a', 'diligent', 'worker', 'I', 'am', 'supporting', 'operating', 'units', 'and', 'recommending', 'strategic', 'change', 'Very', 'Good', 'communication', 'skills', 'Have', 'an', 'interest', 'in', 'helping', 'customers', 'Working', 'as', 'part', 'of', 'a', 'team', 'Well', 'presented', 'polite', 'and', 'tactful', 'Can', 'handle', 'complaints', 'in', 'a', 'calm', 'manner', 'Very', 'good', 'IT', 'skills', 'Good', 'numeracy', 'skills', 'Sensitivity', 'Patience', 'and', 'the', 'ability', 'to', 'remain', 'calm', 'in', 'stressful', 'situations', 'Excellent', 'verbal', 'communication']\n",
      "\n",
      "test_list_gold_label.txt: 0\n",
      "\n",
      "train_list_gold_label.txt: 0\n",
      "\n",
      "dev_list_sentence2.txt: ['Ireland', 'Market', 'Square', 'Ballina', 'Mayo', 'Tesco', 'BallinaContract', 'Part', 'Time', 'TemporaryShift', 'Pattern', 'FlexibleWe', 'pride', 'ourselves', 'on', 'offering', 'customers', 'the', 'biggest', 'range', 'of', 'products', 'around', 'And', 'that', 's', 'not', 'just', 'food', 'but', 'everything', 'from', 'clothes', 'and', 'kettles', 'to', 'financial', 'services', 'But', 'did', 'you', 'know', 'we', 'offer', 'the', 'biggest', 'job', 'opportunities', 'too', 'With', 'stores', 'across', 'the', 'UK', 'and', 'Ireland', 'and', 'a', 'variety', 'of', 'roles', 'we', 'are', 'always', 'looking', 'for', 'people', 'who', 'are', 'as', 'passionate', 'about', 'helping', 'customers', 'as', 'we', 'are', 'Our', 'Every', 'Little', 'Helps', 'approach', 'doesn', 't', 'just', 'apply', 'to', 'our', 'customers', 'It', 's', 'at', 'the', 'very', 'heart', 'of', 'everything', 'we', 'do', 'at', 'work', 'and', 'it', 's', 'what', 'makes', 'us', 'different', 'We', 'believe', 'in', 'treating', 'each', 'other', 'with', 'respect', 'and', 'everyone', 'having', 'the', 'opportunity', 'to', 'get', 'on', 'That', 's', 'what', 'makes']\n",
      "\n",
      "dev_list_sentence1.txt: ['ballina', '0', 'Ireland', 'great', 'communication', 'skills', 'very', 'reasonable', 'very', 'good', 'at', 'taking', 'and', 'understanding', 'tasks', 'I', 'am', 'currently', 'still', 'in', 'school', 'and', 'in', '5th', 'year', 'Available', 'to', 'work', 'evenings', 'and', 'weekends']\n",
      "\n",
      "********************\n",
      "\n",
      "dev_list_gold_label.txt: 1\n",
      "\n",
      "test_list_sentence1.txt: ['Willand', '0', 'United', 'Kingdom', 'I', 'have', 'good', 'knowledge', 'of', 'retail', 'replenishment', 'i', 'have', 'good', 'communication', 'skills', 'im', 'friendly', 'approachable', 'a', 'good', 'listener', 'can', 'follow', 'instuctions', 'I', 'am', 'competent', 'at', 'using', 'Word', 'PowerPoint', 'Web', 'Managing', 'Files', 'and', 'E', 'mail', 'I', 'have', 'basic', 'knowledge', 'in', 'Multisys', 'BMS', 'Millmaster', 'Trax', 'I', 'have', 'great', 'knowldege', 'and', 'experience', 'of', 'till', 'work', 'I', 'have', 'basic', 'knowledge', 'in', 'Multisys', 'BMS', 'Millmaster', 'Trax', 'Able', 'to', 'deal', 'with', 'cash', 'handling', 'and', 'till', 'operation', 'Stock', 'rotation', 'and', 'stock', 'control', 'experience', 'Dealing', 'with', 'query', 's', 'and', 'complaints', 'Co', 'operative', 'and', 'reliable', 'team', 'member', 'Responding', 'positively', 'to', 'requests', 'for', 'help', 'and', 'support', 'An', 'ability', 'to', 'listen', 'and', 'follow', 'instructions', 'Great', 'IT', 'skills', 'including', 'Microsoft', 'Word', 'PowerPoint', 'and', 'Excel', 'as', 'well', 'as', 'managing', 'files', 'and', 'emails', 'Basic', 'knowledge', 'of', 'systems', 'like']\n",
      "\n",
      "test_list_sentence2.txt: ['United', 'Kingdom', 'Willand', 'At', 'One', 'Stop', 'Stores', 'we', 'aim', 'to', 'serve', 'local', 'shoppers', 'a', 'little', 'better', 'every', 'day', 'Being', 'a', 'part', 'of', 'the', 'local', 'community', 'we', 'really', 'can', 'achieve', 'this', 'but', 'it', 's', 'our', 'colleagues', 'in', 'store', 'that', 'brings', 'this', 'to', 'life', 'In', 'this', 'role', 'you', 'will', 'greet', 'and', 'welcome', 'our', 'customers', 'warmly', 'engaging', 'with', 'them', 'to', 'find', 'out', 'their', 'shopping', 'needs', 'sell', 'the', 'right', 'products', 'to', 'them', 'and', 'make', 'their', 'shopping', 'experience', 'a', 'great', 'one', 'As', 'well', 'as', 'having', 'brilliant', 'customer', 'service', 'you', 'll', 'also', 'need', 'to', 'be', 'a', 'team', 'player', 'making', 'sure', 'that', 'your', 'store', 'is', 'always', 'looking', 'great', 'with', 'the', 'right', 'products', 'on', 'the', 'shelves', 'and', 'fantastic', 'services', 'on', 'offer', 'One', 'Stop', 'Customer', 'Service', 'Assistant', 'Whilst', 'being', 'ready', 'to', 'roll', 'up', 'your', 'sleeves', 'and', 'do']\n",
      "\n",
      "train_list_sentence1.txt: ['Castlebar', '0', 'Ireland', 'Full', 'clean', 'driving', 'licence', 'Experienced', 'driver', 'full', 'clean', 'driving', 'licence', 'IT', 'literate', 'English', 'language', 'editing', 'skills', 'Conscientious', 'pay', 'great', 'attention', 'to', 'detail', 'Reliable', 'Modest', 'Safe', 'and', 'courteous', 'driver', 'Enjoy', 'helping', 'others', 'Personable', 'with', 'a', 'good', 'sense', 'of', 'humour', 'and', 'excellent', 'communication', 'skills', 'Able', 'to', 'take', 'the', 'initiative', 'and', 'use', 'common', 'sense', 'Care', 'about', 'making', 'a', 'difference', 'for', 'customers', 'and', 'colleagues', 'to', 'date', 'seeking', 'new', 'challenge', 'Freelance', 'copy', 'editing', 'home', 'based', 'on', 'scientific', 'articles', 'for', 'the', 'International', 'Journal', 'of', 'Production', 'Research', 'Articles', 'supplied', 'and', 'edited', 'in', 'MS', 'Word', 'with', 'MathType', 'Work', 'involved', 'close', 'scrutiny', 'and', 'language', 'editing', 'of', 'complex', 'material', 'from', 'almost', 'entirely', 'ESL', 'English', 'as', 'a', 'Second', 'Language', 'authors', 'Smallholder', 'Home', 'renovation', 'and', 'set', 'up', 'project', 'of', 'a', 'run', 'down', 'smallholding', 'in', 'the', 'west', 'of']\n",
      "\n",
      "test_list_gold_label.txt: 1\n",
      "\n",
      "train_list_gold_label.txt: 0\n",
      "\n",
      "dev_list_sentence2.txt: ['United', 'Kingdom', 'Welwyn', 'Garden', 'City', 'Hertfordshire', 'Our', 'Technology', 'Product', 'team', 'are', 'passionate', 'about', 'serving', 'our', 'customers', 'a', 'little', 'better', 'every', 'day', 'you', 'will', 'have', 'the', 'opportunity', 'to', 'help', 'create', 'industry', 'leading', 'technology', 'that', 'supports', 'this', 'mission', 'The', 'functionality', 'of', 'our', 'Clubcard', 'loyalty', 'scheme', 'was', 'created', 'in', 'this', 'area', 'which', 'we', 're', 'really', 'proud', 'of', 'We', 'want', 'to', 'help', 'you', 'have', 'the', 'best', 'start', 'to', 'your', 'career', 'that', 's', 'why', 'we', 'provide', 'you', 'with', 'the', 'training', 'you', 'need', 'to', 'give', 'you', 'the', 'right', 'skills', 'and', 'experience', 'We', 'love', 'giving', 'our', 'interns', 'responsibility', 'from', 'day', 'one', 'so', 'your', 'experience', 'will', 'be', 'wide', 'and', 'varied', 'One', 'day', 'you', 'could', 'be', 'redesigning', 'the', 'grocery', 'home', 'shopping', 'website', 'and', 'another', 'working', 'on', 'our', 'new', 'checkout', 'systems', 'or', 'responding', 'to', 'urgent', 'technology', 'challenges', 'Technology']\n",
      "\n",
      "dev_list_sentence1.txt: ['0', 'Communication', 'Teamwork', 'Problem', 'Solving']\n",
      "\n",
      "********************\n",
      "\n"
     ]
    }
   ],
   "source": [
    "for i in range(3):\n",
    "    for filename in data_dict:\n",
    "        print(f\"{filename}: {data_dict[filename][i]}\")\n",
    "        print()\n",
    "    print('*'*20)\n",
    "    print()"
   ]
  },
  {
   "cell_type": "code",
   "execution_count": 17,
   "metadata": {},
   "outputs": [
    {
     "name": "stdout",
     "output_type": "stream",
     "text": [
      "dev_list_gold_label.txt: 20199\n",
      "\n",
      "test_list_sentence1.txt: 20331\n",
      "\n",
      "test_list_sentence2.txt: 20331\n",
      "\n",
      "train_list_sentence1.txt: 355812\n",
      "\n",
      "test_list_gold_label.txt: 20331\n",
      "\n",
      "train_list_gold_label.txt: 355812\n",
      "\n",
      "dev_list_sentence2.txt: 20199\n",
      "\n",
      "dev_list_sentence1.txt: 20199\n",
      "\n"
     ]
    }
   ],
   "source": [
    "for filename in data_dict:\n",
    "    print(f\"{filename}: {len(data_dict[filename])}\")\n",
    "    print()"
   ]
  }
 ],
 "metadata": {
  "kernelspec": {
   "display_name": "cudatest",
   "language": "python",
   "name": "python3"
  },
  "language_info": {
   "codemirror_mode": {
    "name": "ipython",
    "version": 3
   },
   "file_extension": ".py",
   "mimetype": "text/x-python",
   "name": "python",
   "nbconvert_exporter": "python",
   "pygments_lexer": "ipython3",
   "version": "3.10.9"
  },
  "orig_nbformat": 4,
  "vscode": {
   "interpreter": {
    "hash": "a0bf9e2828031bae1743a76e7b72d4bbdb5feb109e2957116e5777ed2d99d615"
   }
  }
 },
 "nbformat": 4,
 "nbformat_minor": 2
}
